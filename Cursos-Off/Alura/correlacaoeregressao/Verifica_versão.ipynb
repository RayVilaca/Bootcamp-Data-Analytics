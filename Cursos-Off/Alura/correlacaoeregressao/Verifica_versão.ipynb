{
 "cells": [
  {
   "cell_type": "code",
   "execution_count": 1,
   "metadata": {
    "colab": {},
    "colab_type": "code",
    "id": "gSHqMRhFzcAb"
   },
   "outputs": [],
   "source": [
    "import pandas\n",
    "import numpy\n",
    "import seaborn\n",
    "import scipy\n",
    "import statsmodels"
   ]
  },
  {
   "cell_type": "code",
   "execution_count": 2,
   "metadata": {
    "colab": {},
    "colab_type": "code",
    "id": "GQ5bxfxXzvKp"
   },
   "outputs": [
    {
     "name": "stdout",
     "output_type": "stream",
     "text": [
      "Versão do pandas -> 2.0.3\n",
      "Versão do numpy -> 1.25.1\n",
      "Versão do seaborn -> 0.12.2\n",
      "Versão do scipy -> 1.11.1\n",
      "Versão do statsmodels -> 0.14.0\n"
     ]
    }
   ],
   "source": [
    "print('Versão do pandas -> %s' % pandas.__version__)\n",
    "print('Versão do numpy -> %s' % numpy.__version__)\n",
    "print('Versão do seaborn -> %s' % seaborn.__version__)\n",
    "print('Versão do scipy -> %s' % scipy.__version__)\n",
    "print('Versão do statsmodels -> %s' % statsmodels.__version__)"
   ]
  },
  {
   "cell_type": "markdown",
   "metadata": {
    "colab_type": "text",
    "id": "Q1k5ex0Xi-3y"
   },
   "source": [
    "### Problema com dependência do *statsmodels*"
   ]
  },
  {
   "cell_type": "code",
   "execution_count": 3,
   "metadata": {
    "colab": {},
    "colab_type": "code",
    "id": "5cbhXxAkjGQB"
   },
   "outputs": [],
   "source": [
    "import statsmodels.api"
   ]
  },
  {
   "cell_type": "code",
   "execution_count": 5,
   "metadata": {
    "colab": {},
    "colab_type": "code",
    "id": "DHHDAfHCjLCB"
   },
   "outputs": [
    {
     "ename": "ImportError",
     "evalue": "cannot import name 'factorial' from 'scipy.misc' (/home/rayssa/Desktop/Bootcamp-Data-Analytics/venv/lib/python3.10/site-packages/scipy/misc/__init__.py)",
     "output_type": "error",
     "traceback": [
      "\u001b[0;31m---------------------------------------------------------------------------\u001b[0m",
      "\u001b[0;31mImportError\u001b[0m                               Traceback (most recent call last)",
      "\u001b[1;32m/home/rayssa/Desktop/Bootcamp-Data-Analytics/Cursos-Off/Alura/correlacaoeregressao/Verifica_versão.ipynb Cell 5\u001b[0m line \u001b[0;36m1\n\u001b[0;32m----> <a href='vscode-notebook-cell:/home/rayssa/Desktop/Bootcamp-Data-Analytics/Cursos-Off/Alura/correlacaoeregressao/Verifica_vers%C3%A3o.ipynb#W4sZmlsZQ%3D%3D?line=0'>1</a>\u001b[0m \u001b[39mfrom\u001b[39;00m \u001b[39mscipy\u001b[39;00m\u001b[39m.\u001b[39;00m\u001b[39mmisc\u001b[39;00m \u001b[39mimport\u001b[39;00m factorial\n",
      "\u001b[0;31mImportError\u001b[0m: cannot import name 'factorial' from 'scipy.misc' (/home/rayssa/Desktop/Bootcamp-Data-Analytics/venv/lib/python3.10/site-packages/scipy/misc/__init__.py)"
     ]
    }
   ],
   "source": [
    "from scipy.misc import factorial"
   ]
  },
  {
   "cell_type": "markdown",
   "metadata": {
    "colab_type": "text",
    "id": "TDW0YxbGjVWB"
   },
   "source": [
    "### Solução"
   ]
  },
  {
   "cell_type": "code",
   "execution_count": 6,
   "metadata": {
    "colab": {},
    "colab_type": "code",
    "id": "IYakhWIx0Erv"
   },
   "outputs": [
    {
     "name": "stdout",
     "output_type": "stream",
     "text": [
      "Collecting scipy==1.2\n",
      "  Downloading scipy-1.2.0.tar.gz (23.3 MB)\n",
      "\u001b[2K     \u001b[38;2;114;156;31m━━━━━━━━━━━━━━━━━━━━━━━━━━━━━━━━━━━━━━━━\u001b[0m \u001b[32m23.3/23.3 MB\u001b[0m \u001b[31m3.0 MB/s\u001b[0m eta \u001b[36m0:00:00\u001b[0mm eta \u001b[36m0:00:01\u001b[0m[36m0:00:01\u001b[0m\n",
      "\u001b[?25h  Installing build dependencies ... \u001b[?25ldone\n",
      "\u001b[?25h  Getting requirements to build wheel ... \u001b[?25ldone\n",
      "\u001b[?25h  Installing backend dependencies ... \u001b[?25ldone\n",
      "\u001b[?25h  Preparing metadata (pyproject.toml) ... \u001b[?25lerror\n",
      "  \u001b[1;31merror\u001b[0m: \u001b[1msubprocess-exited-with-error\u001b[0m\n",
      "  \n",
      "  \u001b[31m×\u001b[0m \u001b[32mPreparing metadata \u001b[0m\u001b[1;32m(\u001b[0m\u001b[32mpyproject.toml\u001b[0m\u001b[1;32m)\u001b[0m did not run successfully.\n",
      "  \u001b[31m│\u001b[0m exit code: \u001b[1;36m1\u001b[0m\n",
      "  \u001b[31m╰─>\u001b[0m \u001b[31m[120 lines of output]\u001b[0m\n",
      "  \u001b[31m   \u001b[0m <string>:114: DeprecationWarning: the imp module is deprecated in favour of importlib and slated for removal in Python 3.12; see the module's documentation for alternative uses\n",
      "  \u001b[31m   \u001b[0m <string>:377: UserWarning: Unrecognized setuptools command, proceeding with generating Cython sources and expanding templates\n",
      "  \u001b[31m   \u001b[0m <string>:468: DeprecationWarning:\n",
      "  \u001b[31m   \u001b[0m \n",
      "  \u001b[31m   \u001b[0m   `numpy.distutils` is deprecated since NumPy 1.23.0, as a result\n",
      "  \u001b[31m   \u001b[0m   of the deprecation of `distutils` itself. It will be removed for\n",
      "  \u001b[31m   \u001b[0m   Python >= 3.12. For older Python versions it will remain present.\n",
      "  \u001b[31m   \u001b[0m   It is recommended to use `setuptools < 60.0` for those Python versions.\n",
      "  \u001b[31m   \u001b[0m   For more details, see:\n",
      "  \u001b[31m   \u001b[0m     https://numpy.org/devdocs/reference/distutils_status_migration.html\n",
      "  \u001b[31m   \u001b[0m \n",
      "  \u001b[31m   \u001b[0m \n",
      "  \u001b[31m   \u001b[0m Running from scipy source directory.\n",
      "  \u001b[31m   \u001b[0m INFO: lapack_opt_info:\n",
      "  \u001b[31m   \u001b[0m INFO: lapack_armpl_info:\n",
      "  \u001b[31m   \u001b[0m INFO: customize UnixCCompiler\n",
      "  \u001b[31m   \u001b[0m INFO:   libraries armpl_lp64_mp not found in ['/home/rayssa/Desktop/Bootcamp-Data-Analytics/venv/lib', '/usr/local/lib', '/usr/lib64', '/usr/lib', '/usr/lib/x86_64-linux-gnu']\n",
      "  \u001b[31m   \u001b[0m INFO:   NOT AVAILABLE\n",
      "  \u001b[31m   \u001b[0m INFO:\n",
      "  \u001b[31m   \u001b[0m INFO: lapack_mkl_info:\n",
      "  \u001b[31m   \u001b[0m INFO:   libraries mkl_rt not found in ['/home/rayssa/Desktop/Bootcamp-Data-Analytics/venv/lib', '/usr/local/lib', '/usr/lib64', '/usr/lib', '/usr/lib/x86_64-linux-gnu']\n",
      "  \u001b[31m   \u001b[0m INFO:   NOT AVAILABLE\n",
      "  \u001b[31m   \u001b[0m INFO:\n",
      "  \u001b[31m   \u001b[0m INFO: lapack_ssl2_info:\n",
      "  \u001b[31m   \u001b[0m INFO:   libraries fjlapackexsve not found in ['/home/rayssa/Desktop/Bootcamp-Data-Analytics/venv/lib', '/usr/local/lib', '/usr/lib64', '/usr/lib', '/usr/lib/x86_64-linux-gnu']\n",
      "  \u001b[31m   \u001b[0m INFO:   NOT AVAILABLE\n",
      "  \u001b[31m   \u001b[0m INFO:\n",
      "  \u001b[31m   \u001b[0m INFO: openblas_lapack_info:\n",
      "  \u001b[31m   \u001b[0m INFO:   libraries openblas not found in ['/home/rayssa/Desktop/Bootcamp-Data-Analytics/venv/lib', '/usr/local/lib', '/usr/lib64', '/usr/lib', '/usr/lib/x86_64-linux-gnu']\n",
      "  \u001b[31m   \u001b[0m INFO:   NOT AVAILABLE\n",
      "  \u001b[31m   \u001b[0m INFO:\n",
      "  \u001b[31m   \u001b[0m INFO: openblas_clapack_info:\n",
      "  \u001b[31m   \u001b[0m INFO:   libraries openblas,lapack not found in ['/home/rayssa/Desktop/Bootcamp-Data-Analytics/venv/lib', '/usr/local/lib', '/usr/lib64', '/usr/lib', '/usr/lib/x86_64-linux-gnu']\n",
      "  \u001b[31m   \u001b[0m INFO:   NOT AVAILABLE\n",
      "  \u001b[31m   \u001b[0m INFO:\n",
      "  \u001b[31m   \u001b[0m INFO: flame_info:\n",
      "  \u001b[31m   \u001b[0m INFO:   libraries flame not found in ['/home/rayssa/Desktop/Bootcamp-Data-Analytics/venv/lib', '/usr/local/lib', '/usr/lib64', '/usr/lib', '/usr/lib/x86_64-linux-gnu']\n",
      "  \u001b[31m   \u001b[0m INFO:   NOT AVAILABLE\n",
      "  \u001b[31m   \u001b[0m INFO:\n",
      "  \u001b[31m   \u001b[0m INFO: accelerate_info:\n",
      "  \u001b[31m   \u001b[0m INFO:   NOT AVAILABLE\n",
      "  \u001b[31m   \u001b[0m INFO:\n",
      "  \u001b[31m   \u001b[0m INFO: atlas_3_10_threads_info:\n",
      "  \u001b[31m   \u001b[0m INFO: Setting PTATLAS=ATLAS\n",
      "  \u001b[31m   \u001b[0m INFO:   libraries tatlas,tatlas not found in /home/rayssa/Desktop/Bootcamp-Data-Analytics/venv/lib\n",
      "  \u001b[31m   \u001b[0m INFO:   libraries tatlas,tatlas not found in /usr/local/lib\n",
      "  \u001b[31m   \u001b[0m INFO:   libraries tatlas,tatlas not found in /usr/lib64\n",
      "  \u001b[31m   \u001b[0m INFO:   libraries tatlas,tatlas not found in /usr/lib\n",
      "  \u001b[31m   \u001b[0m INFO:   libraries tatlas,tatlas not found in /usr/lib/x86_64-linux-gnu\n",
      "  \u001b[31m   \u001b[0m INFO: <class 'numpy.distutils.system_info.atlas_3_10_threads_info'>\n",
      "  \u001b[31m   \u001b[0m INFO:   NOT AVAILABLE\n",
      "  \u001b[31m   \u001b[0m INFO:\n",
      "  \u001b[31m   \u001b[0m INFO: atlas_3_10_info:\n",
      "  \u001b[31m   \u001b[0m INFO:   libraries satlas,satlas not found in /home/rayssa/Desktop/Bootcamp-Data-Analytics/venv/lib\n",
      "  \u001b[31m   \u001b[0m INFO:   libraries satlas,satlas not found in /usr/local/lib\n",
      "  \u001b[31m   \u001b[0m INFO:   libraries satlas,satlas not found in /usr/lib64\n",
      "  \u001b[31m   \u001b[0m INFO:   libraries satlas,satlas not found in /usr/lib\n",
      "  \u001b[31m   \u001b[0m INFO:   libraries satlas,satlas not found in /usr/lib/x86_64-linux-gnu\n",
      "  \u001b[31m   \u001b[0m INFO: <class 'numpy.distutils.system_info.atlas_3_10_info'>\n",
      "  \u001b[31m   \u001b[0m INFO:   NOT AVAILABLE\n",
      "  \u001b[31m   \u001b[0m INFO:\n",
      "  \u001b[31m   \u001b[0m INFO: atlas_threads_info:\n",
      "  \u001b[31m   \u001b[0m INFO: Setting PTATLAS=ATLAS\n",
      "  \u001b[31m   \u001b[0m INFO:   libraries ptf77blas,ptcblas,atlas not found in /home/rayssa/Desktop/Bootcamp-Data-Analytics/venv/lib\n",
      "  \u001b[31m   \u001b[0m INFO:   libraries ptf77blas,ptcblas,atlas not found in /usr/local/lib\n",
      "  \u001b[31m   \u001b[0m INFO:   libraries ptf77blas,ptcblas,atlas not found in /usr/lib64\n",
      "  \u001b[31m   \u001b[0m INFO:   libraries ptf77blas,ptcblas,atlas not found in /usr/lib\n",
      "  \u001b[31m   \u001b[0m INFO:   libraries ptf77blas,ptcblas,atlas not found in /usr/lib/x86_64-linux-gnu\n",
      "  \u001b[31m   \u001b[0m INFO: <class 'numpy.distutils.system_info.atlas_threads_info'>\n",
      "  \u001b[31m   \u001b[0m INFO:   NOT AVAILABLE\n",
      "  \u001b[31m   \u001b[0m INFO:\n",
      "  \u001b[31m   \u001b[0m INFO: atlas_info:\n",
      "  \u001b[31m   \u001b[0m INFO:   libraries f77blas,cblas,atlas not found in /home/rayssa/Desktop/Bootcamp-Data-Analytics/venv/lib\n",
      "  \u001b[31m   \u001b[0m INFO:   libraries f77blas,cblas,atlas not found in /usr/local/lib\n",
      "  \u001b[31m   \u001b[0m INFO:   libraries f77blas,cblas,atlas not found in /usr/lib64\n",
      "  \u001b[31m   \u001b[0m INFO:   libraries f77blas,cblas,atlas not found in /usr/lib\n",
      "  \u001b[31m   \u001b[0m INFO:   libraries f77blas,cblas,atlas not found in /usr/lib/x86_64-linux-gnu\n",
      "  \u001b[31m   \u001b[0m INFO: <class 'numpy.distutils.system_info.atlas_info'>\n",
      "  \u001b[31m   \u001b[0m INFO:   NOT AVAILABLE\n",
      "  \u001b[31m   \u001b[0m INFO:\n",
      "  \u001b[31m   \u001b[0m INFO: lapack_info:\n",
      "  \u001b[31m   \u001b[0m INFO:   libraries lapack not found in ['/home/rayssa/Desktop/Bootcamp-Data-Analytics/venv/lib', '/usr/local/lib', '/usr/lib64', '/usr/lib', '/usr/lib/x86_64-linux-gnu']\n",
      "  \u001b[31m   \u001b[0m INFO:   NOT AVAILABLE\n",
      "  \u001b[31m   \u001b[0m INFO:\n",
      "  \u001b[31m   \u001b[0m /tmp/pip-build-env-xlq4dl95/normal/lib/python3.10/site-packages/numpy/distutils/system_info.py:1974: UserWarning:\n",
      "  \u001b[31m   \u001b[0m     Lapack (http://www.netlib.org/lapack/) libraries not found.\n",
      "  \u001b[31m   \u001b[0m     Directories to search for the libraries can be specified in the\n",
      "  \u001b[31m   \u001b[0m     numpy/distutils/site.cfg file (section [lapack]) or by setting\n",
      "  \u001b[31m   \u001b[0m     the LAPACK environment variable.\n",
      "  \u001b[31m   \u001b[0m   return getattr(self, '_calc_info_{}'.format(name))()\n",
      "  \u001b[31m   \u001b[0m INFO: lapack_src_info:\n",
      "  \u001b[31m   \u001b[0m INFO:   NOT AVAILABLE\n",
      "  \u001b[31m   \u001b[0m INFO:\n",
      "  \u001b[31m   \u001b[0m /tmp/pip-build-env-xlq4dl95/normal/lib/python3.10/site-packages/numpy/distutils/system_info.py:1974: UserWarning:\n",
      "  \u001b[31m   \u001b[0m     Lapack (http://www.netlib.org/lapack/) sources not found.\n",
      "  \u001b[31m   \u001b[0m     Directories to search for the sources can be specified in the\n",
      "  \u001b[31m   \u001b[0m     numpy/distutils/site.cfg file (section [lapack_src]) or by setting\n",
      "  \u001b[31m   \u001b[0m     the LAPACK_SRC environment variable.\n",
      "  \u001b[31m   \u001b[0m   return getattr(self, '_calc_info_{}'.format(name))()\n",
      "  \u001b[31m   \u001b[0m INFO:   NOT AVAILABLE\n",
      "  \u001b[31m   \u001b[0m INFO:\n",
      "  \u001b[31m   \u001b[0m Traceback (most recent call last):\n",
      "  \u001b[31m   \u001b[0m   File \"/home/rayssa/Desktop/Bootcamp-Data-Analytics/venv/lib/python3.10/site-packages/pip/_vendor/pyproject_hooks/_in_process/_in_process.py\", line 353, in <module>\n",
      "  \u001b[31m   \u001b[0m     main()\n",
      "  \u001b[31m   \u001b[0m   File \"/home/rayssa/Desktop/Bootcamp-Data-Analytics/venv/lib/python3.10/site-packages/pip/_vendor/pyproject_hooks/_in_process/_in_process.py\", line 335, in main\n",
      "  \u001b[31m   \u001b[0m     json_out['return_val'] = hook(**hook_input['kwargs'])\n",
      "  \u001b[31m   \u001b[0m   File \"/home/rayssa/Desktop/Bootcamp-Data-Analytics/venv/lib/python3.10/site-packages/pip/_vendor/pyproject_hooks/_in_process/_in_process.py\", line 149, in prepare_metadata_for_build_wheel\n",
      "  \u001b[31m   \u001b[0m     return hook(metadata_directory, config_settings)\n",
      "  \u001b[31m   \u001b[0m   File \"/tmp/pip-build-env-xlq4dl95/overlay/lib/python3.10/site-packages/setuptools/build_meta.py\", line 396, in prepare_metadata_for_build_wheel\n",
      "  \u001b[31m   \u001b[0m     self.run_setup()\n",
      "  \u001b[31m   \u001b[0m   File \"/tmp/pip-build-env-xlq4dl95/overlay/lib/python3.10/site-packages/setuptools/build_meta.py\", line 507, in run_setup\n",
      "  \u001b[31m   \u001b[0m     super(_BuildMetaLegacyBackend, self).run_setup(setup_script=setup_script)\n",
      "  \u001b[31m   \u001b[0m   File \"/tmp/pip-build-env-xlq4dl95/overlay/lib/python3.10/site-packages/setuptools/build_meta.py\", line 341, in run_setup\n",
      "  \u001b[31m   \u001b[0m     exec(code, locals())\n",
      "  \u001b[31m   \u001b[0m   File \"<string>\", line 492, in <module>\n",
      "  \u001b[31m   \u001b[0m   File \"<string>\", line 488, in setup_package\n",
      "  \u001b[31m   \u001b[0m   File \"/tmp/pip-build-env-xlq4dl95/normal/lib/python3.10/site-packages/numpy/distutils/core.py\", line 135, in setup\n",
      "  \u001b[31m   \u001b[0m     config = configuration()\n",
      "  \u001b[31m   \u001b[0m   File \"<string>\", line 395, in configuration\n",
      "  \u001b[31m   \u001b[0m numpy.distutils.system_info.NotFoundError: No lapack/blas resources found.\n",
      "  \u001b[31m   \u001b[0m \u001b[31m[end of output]\u001b[0m\n",
      "  \n",
      "  \u001b[1;35mnote\u001b[0m: This error originates from a subprocess, and is likely not a problem with pip.\n",
      "\u001b[?25h\u001b[1;31merror\u001b[0m: \u001b[1mmetadata-generation-failed\u001b[0m\n",
      "\n",
      "\u001b[31m×\u001b[0m Encountered error while generating package metadata.\n",
      "\u001b[31m╰─>\u001b[0m See above for output.\n",
      "\n",
      "\u001b[1;35mnote\u001b[0m: This is an issue with the package mentioned above, not pip.\n",
      "\u001b[1;36mhint\u001b[0m: See above for details.\n"
     ]
    }
   ],
   "source": [
    "!pip install scipy==1.2 --upgrade"
   ]
  },
  {
   "cell_type": "code",
   "execution_count": null,
   "metadata": {
    "colab": {},
    "colab_type": "code",
    "id": "IfINO1qSjNCR"
   },
   "outputs": [],
   "source": []
  }
 ],
 "metadata": {
  "colab": {
   "name": "Verifica_versão.ipynb",
   "provenance": [],
   "version": "0.3.2"
  },
  "kernelspec": {
   "display_name": "Python 3",
   "language": "python",
   "name": "python3"
  },
  "language_info": {
   "codemirror_mode": {
    "name": "ipython",
    "version": 3
   },
   "file_extension": ".py",
   "mimetype": "text/x-python",
   "name": "python",
   "nbconvert_exporter": "python",
   "pygments_lexer": "ipython3",
   "version": "3.10.12"
  }
 },
 "nbformat": 4,
 "nbformat_minor": 1
}
