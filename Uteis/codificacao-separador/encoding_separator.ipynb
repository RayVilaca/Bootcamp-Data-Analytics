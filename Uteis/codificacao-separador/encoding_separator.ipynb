{
 "cells": [
  {
   "cell_type": "markdown",
   "metadata": {},
   "source": [
    "**Descobrir o encoding e o separador de um arquivo csv**"
   ]
  },
  {
   "cell_type": "code",
   "execution_count": 1,
   "metadata": {},
   "outputs": [],
   "source": [
    "import chardet as ch\n",
    "import csv"
   ]
  },
  {
   "cell_type": "code",
   "execution_count": 2,
   "metadata": {},
   "outputs": [],
   "source": [
    "def encoding_separator(file_name):\n",
    "    # Detectar o enconding do arquivo\n",
    "    with open(file_name, 'rb') as file:\n",
    "        result = ch.detect(file.read(32768))\n",
    "        encoding = result['encoding']\n",
    "\n",
    "    # Detectar o separador do arquivo\n",
    "    with open(file_name, 'r', encoding=encoding) as file:\n",
    "        dialect = csv.Sniffer().sniff(file.readline())\n",
    "        sep = dialect.delimiter\n",
    "    \n",
    "    return encoding, sep\n"
   ]
  },
  {
   "cell_type": "code",
   "execution_count": 3,
   "metadata": {},
   "outputs": [
    {
     "name": "stdout",
     "output_type": "stream",
     "text": [
      "('ISO-8859-1', ';')\n"
     ]
    }
   ],
   "source": [
    "file_name = '/home/rayssa/Desktop/Bootcamp-Data-Analytics/Datasets/csv/MICRODADOS_ENEM_2018.csv'\n",
    "print(encoding_separator(file_name))"
   ]
  },
  {
   "cell_type": "code",
   "execution_count": null,
   "metadata": {},
   "outputs": [],
   "source": []
  }
 ],
 "metadata": {
  "kernelspec": {
   "display_name": "venv",
   "language": "python",
   "name": "python3"
  },
  "language_info": {
   "codemirror_mode": {
    "name": "ipython",
    "version": 3
   },
   "file_extension": ".py",
   "mimetype": "text/x-python",
   "name": "python",
   "nbconvert_exporter": "python",
   "pygments_lexer": "ipython3",
   "version": "3.10.6"
  },
  "orig_nbformat": 4
 },
 "nbformat": 4,
 "nbformat_minor": 2
}
