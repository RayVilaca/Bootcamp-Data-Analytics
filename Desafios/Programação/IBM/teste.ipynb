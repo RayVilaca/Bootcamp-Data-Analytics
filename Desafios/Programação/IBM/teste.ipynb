{
 "cells": [
  {
   "cell_type": "code",
   "execution_count": 1,
   "metadata": {},
   "outputs": [],
   "source": [
    "from itertools import combinations"
   ]
  },
  {
   "cell_type": "code",
   "execution_count": 68,
   "metadata": {},
   "outputs": [
    {
     "name": "stdout",
     "output_type": "stream",
     "text": [
      "[2, 4]\n"
     ]
    }
   ],
   "source": [
    "X = [1, 2, 2, 3, 4]\n",
    "A = [1, 2, 3]\n",
    "\n",
    "B = X[:]  # Cria uma cópia de X para preservar o original\n",
    "\n",
    "for elemento in A:\n",
    "    if elemento in B:\n",
    "        B.remove(elemento)  # Remove apenas a primeira ocorrência do elemento de A em B\n",
    "\n",
    "print(B) "
   ]
  },
  {
   "cell_type": "code",
   "execution_count": 98,
   "metadata": {},
   "outputs": [
    {
     "name": "stdout",
     "output_type": "stream",
     "text": [
      "[5, 9]\n"
     ]
    }
   ],
   "source": [
    "def subconjuntos_recursivos(array):\n",
    "    \n",
    "    def chave_de_ordenacao(lista):\n",
    "        return len(lista), -sum(lista)\n",
    "\n",
    "    def helper(index, path, B):\n",
    "        if sum(path) > sum(B) and not set(path).intersection(B):\n",
    "            subconjuntos.append(sorted(path))\n",
    "            return\n",
    "            \n",
    "        if index == len(array):\n",
    "            return\n",
    "        \n",
    "        aux = B[:]\n",
    "        aux.remove(array[index])\n",
    "        \n",
    "        helper(index + 1, path + [array[index]], aux)  # Inclui o elemento atual\n",
    "        helper(index + 1, path, B)  # Não inclui o elemento atual\n",
    "\n",
    "    subconjuntos = []\n",
    "    \n",
    "    helper(0, [], array[:])\n",
    "    return sorted(subconjuntos, key=chave_de_ordenacao)[0]\n",
    "\n",
    "# Exemplo de uso:\n",
    "meu_array = [1, 5, 6, 6, 9]\n",
    "resultado = subconjuntos_recursivos(meu_array)\n",
    "print(resultado)"
   ]
  },
  {
   "cell_type": "code",
   "execution_count": 63,
   "metadata": {},
   "outputs": [],
   "source": [
    "def subsetA(arr):\n",
    "    n = len(arr)\n",
    "    arr_ord = sorted(arr, reverse=True)\n",
    "    subconjuntos = []\n",
    "    for tamanho in range(1, n + 1):\n",
    "        for inicio in range(n - tamanho + 1):\n",
    "            fim = inicio + tamanho\n",
    "            subconjuntoA = arr_ord[inicio:fim]\n",
    "            subconjuntoB = [x for x in arr_ord if x not in subconjuntoA]\n",
    "            \n",
    "            if sum(subconjuntoA) > sum(subconjuntoB) and not set(subconjuntoA).intersection(subconjuntoB):\n",
    "                print(\"Subconjunto A\", subconjuntoA)\n",
    "                print(\"Subconjunto B\",subconjuntoB)\n",
    "                \n",
    "                print(set(subconjuntoA).intersection(subconjuntoB))\n",
    "                print(not set(subconjuntoA).intersection(subconjuntoB))\n",
    "                return subconjuntoA\n",
    "    return subconjuntos\n",
    "            "
   ]
  },
  {
   "cell_type": "code",
   "execution_count": 64,
   "metadata": {},
   "outputs": [
    {
     "name": "stdout",
     "output_type": "stream",
     "text": [
      "Subconjunto A [10, 10, 10, 10, 9, 8]\n",
      "Subconjunto B [7, 6, 6, 5, 5, 4, 4, 4, 4, 4, 3, 2, 1]\n",
      "set()\n",
      "True\n",
      "8\n",
      "9\n",
      "10\n",
      "10\n",
      "10\n",
      "10\n"
     ]
    }
   ],
   "source": [
    "meu_array = [2, 3, 4, 4, 5, 9, 7, 8, 6, 10, 4, 5, 10, 10, 8, 4, 6, 4, 10, 1]\n",
    "resultado = subsetA(meu_array)\n",
    "print(\"\\n\".join(map(str, sorted(resultado))))"
   ]
  },
  {
   "cell_type": "code",
   "execution_count": 46,
   "metadata": {},
   "outputs": [
    {
     "name": "stdout",
     "output_type": "stream",
     "text": [
      "[20, 2, 3, 4, 4, 5, 9, 7, 8, 6, 10, 4, 5, 10, 10, 8, 4, 6, 4, 10, 1]\n"
     ]
    }
   ],
   "source": [
    "texto = \"20\\n2\\n3\\n4\\n4\\n5\\n9\\n7\\n8\\n6\\n10\\n4\\n5\\n10\\n10\\n8\\n4\\n6\\n4\\n10\\n1\"\n",
    "array = [int(x) for x in texto.split('\\n')]\n",
    "print(array)"
   ]
  },
  {
   "cell_type": "code",
   "execution_count": 100,
   "metadata": {},
   "outputs": [
    {
     "data": {
      "text/plain": [
       "[[418, 950, 640, 620, 306],\n",
       " [591, 670, 947, 796, 484],\n",
       " [308, 477, 329, 741, 321],\n",
       " [799, 734, 188, 990, 398],\n",
       " [835, 335, 468, 558, 680]]"
      ]
     },
     "execution_count": 100,
     "metadata": {},
     "output_type": "execute_result"
    }
   ],
   "source": [
    "mat = [[418, 950, 640, 620, 306], [591, 670, 947, 796, 484], [308, 477, 329, 741, 321], [799, 734,188,990,398], [835,335,468,558,680]]\n",
    "mat"
   ]
  },
  {
   "cell_type": "code",
   "execution_count": 103,
   "metadata": {},
   "outputs": [
    {
     "name": "stdout",
     "output_type": "stream",
     "text": [
      "-1\n",
      "3087\n",
      "3087\n",
      "3087\n",
      "3087\n",
      "3087\n",
      "3087\n",
      "3512\n",
      "3512\n",
      "3520\n",
      "3520\n",
      "3520\n",
      "3520\n",
      "3520\n",
      "3520\n",
      "3520\n",
      "3520\n",
      "3520\n",
      "3520\n",
      "3520\n",
      "3520\n",
      "3520\n",
      "3520\n",
      "3520\n",
      "3520\n",
      "3540\n",
      "3540\n",
      "3540\n",
      "3540\n",
      "3540\n",
      "3540\n",
      "3875\n",
      "3875\n",
      "4117\n",
      "4117\n",
      "4117\n",
      "4117\n",
      "4117\n",
      "4117\n",
      "4117\n",
      "4117\n",
      "4117\n",
      "4117\n",
      "4117\n",
      "4117\n",
      "4117\n",
      "4117\n",
      "4117\n",
      "4117\n",
      "4117\n",
      "4117\n",
      "4117\n",
      "4117\n",
      "4117\n",
      "4117\n",
      "4117\n",
      "4117\n",
      "4117\n",
      "4117\n",
      "4117\n",
      "4117\n",
      "4117\n",
      "4117\n",
      "4117\n",
      "4117\n",
      "4117\n",
      "4117\n",
      "4117\n",
      "4117\n",
      "4117\n",
      "4117\n",
      "4117\n",
      "4117\n",
      "4117\n",
      "4117\n",
      "4117\n",
      "4117\n",
      "4117\n",
      "4117\n",
      "4117\n",
      "4117\n",
      "4117\n",
      "4117\n",
      "4117\n",
      "4117\n",
      "4117\n",
      "4117\n",
      "4117\n",
      "4117\n",
      "4117\n",
      "4117\n",
      "4117\n",
      "4117\n",
      "4117\n",
      "4117\n",
      "4117\n",
      "4117\n",
      "4117\n",
      "4117\n",
      "4117\n",
      "4117\n",
      "4117\n",
      "4117\n",
      "4117\n",
      "4117\n",
      "4117\n",
      "4117\n",
      "4117\n",
      "4117\n",
      "4117\n",
      "4117\n",
      "4117\n",
      "4117\n",
      "4117\n",
      "4117\n",
      "4117\n",
      "4117\n",
      "4117\n",
      "4117\n",
      "4117\n",
      "4117\n"
     ]
    }
   ],
   "source": [
    "soma = -1\n",
    "for i in range(5):\n",
    "    for j in range(5):\n",
    "        if j == i:\n",
    "            continue\n",
    "        for k in range(5):\n",
    "            if k == j or k == i:\n",
    "                continue\n",
    "            for l in range(5):\n",
    "                if l == k or l == j or l == i:\n",
    "                    continue\n",
    "                for p in range(5):\n",
    "                    if p == l or p == k or p == j or p == i:\n",
    "                        continue\n",
    "                    print(soma)\n",
    "                    soma = max(mat[0][i] + mat[1][j] + mat[2][k] + mat[3][l] + mat[4][p], soma)\n",
    "                    \n",
    "print(soma)"
   ]
  },
  {
   "cell_type": "code",
   "execution_count": 104,
   "metadata": {},
   "outputs": [
    {
     "name": "stdout",
     "output_type": "stream",
     "text": [
      "A Média Absoluta Percentual de Erro (MAPE) é: 13.02%\n"
     ]
    }
   ],
   "source": [
    "def calcular_mape(y_real, y_previsto):\n",
    "    n = len(y_real)\n",
    "    soma = 0.0\n",
    "    for i in range(n):\n",
    "        soma += abs((y_real[i] - y_previsto[i]) / y_real[i])\n",
    "    mape = (soma / n) * 100\n",
    "    return mape\n",
    "\n",
    "# Exemplo de uso:\n",
    "valores_reais = [45, 42, 50, 60, 90]\n",
    "valores_previstos = [41, 49, 57, 68, 79]\n",
    "\n",
    "mape_resultado = calcular_mape(valores_reais, valores_previstos)\n",
    "print(f\"A Média Absoluta Percentual de Erro (MAPE) é: {mape_resultado:.2f}%\")"
   ]
  }
 ],
 "metadata": {
  "kernelspec": {
   "display_name": "venv",
   "language": "python",
   "name": "python3"
  },
  "language_info": {
   "codemirror_mode": {
    "name": "ipython",
    "version": 3
   },
   "file_extension": ".py",
   "mimetype": "text/x-python",
   "name": "python",
   "nbconvert_exporter": "python",
   "pygments_lexer": "ipython3",
   "version": "3.10.12"
  }
 },
 "nbformat": 4,
 "nbformat_minor": 2
}
