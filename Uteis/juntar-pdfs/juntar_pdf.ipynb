{
 "cells": [
  {
   "cell_type": "code",
   "execution_count": 16,
   "metadata": {},
   "outputs": [],
   "source": [
    "import PyPDF2"
   ]
  },
  {
   "cell_type": "code",
   "execution_count": 17,
   "metadata": {},
   "outputs": [],
   "source": [
    "caminho_pdf_principal = '/home/rayssa/Downloads/TCC_Rayssa_vFinal.pdf'\n",
    "caminho_pdf_secundario = '/home/rayssa/Downloads/folha_aprovacao.pdf'\n",
    "caminho_pdf_resultante = '/home/rayssa/Downloads/TCC_Rayssa_vFinal.pdf'"
   ]
  },
  {
   "cell_type": "code",
   "execution_count": 18,
   "metadata": {},
   "outputs": [],
   "source": [
    "pdf_principal = PyPDF2.PdfReader(caminho_pdf_principal)\n",
    "pdf_secundario = PyPDF2.PdfReader(caminho_pdf_secundario)"
   ]
  },
  {
   "cell_type": "code",
   "execution_count": 19,
   "metadata": {},
   "outputs": [],
   "source": [
    "pdf_final = PyPDF2.PdfWriter()"
   ]
  },
  {
   "cell_type": "code",
   "execution_count": 20,
   "metadata": {},
   "outputs": [],
   "source": [
    "primeira_pagina_principal = pdf_principal.pages[0]\n",
    "\n",
    "for num_pagina, pagina_principal in enumerate(pdf_principal.pages):\n",
    "    if num_pagina == 3:\n",
    "        pagina_secundaria = pdf_secundario.pages[0]\n",
    "        \n",
    "        # pagina_secundaria.scale_to(primeira_pagina_principal.mediabox.width, primeira_pagina_principal.mediabox.height)\n",
    "        \n",
    "        pdf_final.add_page(pagina_secundaria)\n",
    "        continue\n",
    "    \n",
    "    pdf_final.add_page(pagina_principal)"
   ]
  },
  {
   "cell_type": "code",
   "execution_count": 21,
   "metadata": {},
   "outputs": [],
   "source": [
    "with open(caminho_pdf_resultante, 'wb') as arquivo_saida:\n",
    "    pdf_final.write(arquivo_saida)"
   ]
  },
  {
   "cell_type": "code",
   "execution_count": null,
   "metadata": {},
   "outputs": [],
   "source": []
  }
 ],
 "metadata": {
  "kernelspec": {
   "display_name": "venv",
   "language": "python",
   "name": "python3"
  },
  "language_info": {
   "codemirror_mode": {
    "name": "ipython",
    "version": 3
   },
   "file_extension": ".py",
   "mimetype": "text/x-python",
   "name": "python",
   "nbconvert_exporter": "python",
   "pygments_lexer": "ipython3",
   "version": "3.10.6"
  },
  "orig_nbformat": 4
 },
 "nbformat": 4,
 "nbformat_minor": 2
}
