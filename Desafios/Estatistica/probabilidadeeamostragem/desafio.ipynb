{
 "cells": [
  {
   "cell_type": "code",
   "execution_count": 234,
   "metadata": {},
   "outputs": [],
   "source": [
    "import pandas as pd\n",
    "import seaborn as sns\n",
    "from scipy.stats import norm\n",
    "import matplotlib.pyplot as plt"
   ]
  },
  {
   "cell_type": "markdown",
   "metadata": {},
   "source": [
    "# Desafio 1"
   ]
  },
  {
   "cell_type": "markdown",
   "metadata": {},
   "source": [
    "#### Importando e estudando o dataframe"
   ]
  },
  {
   "cell_type": "code",
   "execution_count": 235,
   "metadata": {},
   "outputs": [],
   "source": [
    "# criando um dataframe a partir da importação do dataset\n",
    "clientes_df = pd.read_csv(\"desafio01consumidor-230829-103627.csv\")"
   ]
  },
  {
   "cell_type": "code",
   "execution_count": 236,
   "metadata": {},
   "outputs": [
    {
     "data": {
      "text/html": [
       "<div>\n",
       "<style scoped>\n",
       "    .dataframe tbody tr th:only-of-type {\n",
       "        vertical-align: middle;\n",
       "    }\n",
       "\n",
       "    .dataframe tbody tr th {\n",
       "        vertical-align: top;\n",
       "    }\n",
       "\n",
       "    .dataframe thead th {\n",
       "        text-align: right;\n",
       "    }\n",
       "</style>\n",
       "<table border=\"1\" class=\"dataframe\">\n",
       "  <thead>\n",
       "    <tr style=\"text-align: right;\">\n",
       "      <th></th>\n",
       "      <th>id_cliente</th>\n",
       "      <th>idade</th>\n",
       "      <th>renda</th>\n",
       "      <th>produto</th>\n",
       "      <th>regiao-BR</th>\n",
       "      <th>pre-pandemia</th>\n",
       "    </tr>\n",
       "  </thead>\n",
       "  <tbody>\n",
       "    <tr>\n",
       "      <th>0</th>\n",
       "      <td>XXXXXXX72</td>\n",
       "      <td>30</td>\n",
       "      <td>7452</td>\n",
       "      <td>batom</td>\n",
       "      <td>Sudeste</td>\n",
       "      <td>1</td>\n",
       "    </tr>\n",
       "    <tr>\n",
       "      <th>1</th>\n",
       "      <td>XXXXXXX15</td>\n",
       "      <td>59</td>\n",
       "      <td>837</td>\n",
       "      <td>desodorante</td>\n",
       "      <td>Nordeste</td>\n",
       "      <td>1</td>\n",
       "    </tr>\n",
       "    <tr>\n",
       "      <th>2</th>\n",
       "      <td>XXXXXXX70</td>\n",
       "      <td>28</td>\n",
       "      <td>3231</td>\n",
       "      <td>sombra</td>\n",
       "      <td>Centro-Oeste</td>\n",
       "      <td>1</td>\n",
       "    </tr>\n",
       "    <tr>\n",
       "      <th>3</th>\n",
       "      <td>XXXXXXX99</td>\n",
       "      <td>27</td>\n",
       "      <td>5409</td>\n",
       "      <td>batom</td>\n",
       "      <td>Sul</td>\n",
       "      <td>1</td>\n",
       "    </tr>\n",
       "    <tr>\n",
       "      <th>4</th>\n",
       "      <td>XXXXXXX98</td>\n",
       "      <td>24</td>\n",
       "      <td>1142</td>\n",
       "      <td>batom</td>\n",
       "      <td>Sudeste</td>\n",
       "      <td>1</td>\n",
       "    </tr>\n",
       "  </tbody>\n",
       "</table>\n",
       "</div>"
      ],
      "text/plain": [
       "  id_cliente  idade  renda      produto     regiao-BR  pre-pandemia\n",
       "0  XXXXXXX72     30   7452        batom       Sudeste             1\n",
       "1  XXXXXXX15     59    837  desodorante      Nordeste             1\n",
       "2  XXXXXXX70     28   3231       sombra  Centro-Oeste             1\n",
       "3  XXXXXXX99     27   5409        batom           Sul             1\n",
       "4  XXXXXXX98     24   1142        batom       Sudeste             1"
      ]
     },
     "execution_count": 236,
     "metadata": {},
     "output_type": "execute_result"
    }
   ],
   "source": [
    "# mostrando os cinco primeiros dados do dataframe\n",
    "clientes_df.head()"
   ]
  },
  {
   "cell_type": "code",
   "execution_count": 237,
   "metadata": {},
   "outputs": [
    {
     "name": "stdout",
     "output_type": "stream",
     "text": [
      "<class 'pandas.core.frame.DataFrame'>\n",
      "RangeIndex: 203 entries, 0 to 202\n",
      "Data columns (total 6 columns):\n",
      " #   Column        Non-Null Count  Dtype \n",
      "---  ------        --------------  ----- \n",
      " 0   id_cliente    203 non-null    object\n",
      " 1   idade         203 non-null    int64 \n",
      " 2   renda         203 non-null    int64 \n",
      " 3   produto       203 non-null    object\n",
      " 4   regiao-BR     203 non-null    object\n",
      " 5   pre-pandemia  203 non-null    int64 \n",
      "dtypes: int64(3), object(3)\n",
      "memory usage: 9.6+ KB\n"
     ]
    }
   ],
   "source": [
    "# verificando o tipo de dados de cada coluna e se há dados faltantes\n",
    "clientes_df.info()"
   ]
  },
  {
   "cell_type": "markdown",
   "metadata": {},
   "source": [
    "### Item 1"
   ]
  },
  {
   "cell_type": "code",
   "execution_count": 238,
   "metadata": {},
   "outputs": [
    {
     "data": {
      "text/html": [
       "<div>\n",
       "<style scoped>\n",
       "    .dataframe tbody tr th:only-of-type {\n",
       "        vertical-align: middle;\n",
       "    }\n",
       "\n",
       "    .dataframe tbody tr th {\n",
       "        vertical-align: top;\n",
       "    }\n",
       "\n",
       "    .dataframe thead th {\n",
       "        text-align: right;\n",
       "    }\n",
       "</style>\n",
       "<table border=\"1\" class=\"dataframe\">\n",
       "  <thead>\n",
       "    <tr style=\"text-align: right;\">\n",
       "      <th></th>\n",
       "      <th>id_cliente</th>\n",
       "      <th>idade</th>\n",
       "      <th>renda</th>\n",
       "      <th>produto</th>\n",
       "      <th>regiao-BR</th>\n",
       "      <th>pre-pandemia</th>\n",
       "    </tr>\n",
       "  </thead>\n",
       "  <tbody>\n",
       "    <tr>\n",
       "      <th>0</th>\n",
       "      <td>XXXXXXX72</td>\n",
       "      <td>30</td>\n",
       "      <td>7452</td>\n",
       "      <td>batom</td>\n",
       "      <td>Sudeste</td>\n",
       "      <td>1</td>\n",
       "    </tr>\n",
       "    <tr>\n",
       "      <th>1</th>\n",
       "      <td>XXXXXXX15</td>\n",
       "      <td>59</td>\n",
       "      <td>837</td>\n",
       "      <td>desodorante</td>\n",
       "      <td>Nordeste</td>\n",
       "      <td>1</td>\n",
       "    </tr>\n",
       "    <tr>\n",
       "      <th>2</th>\n",
       "      <td>XXXXXXX70</td>\n",
       "      <td>28</td>\n",
       "      <td>3231</td>\n",
       "      <td>sombra</td>\n",
       "      <td>Centro-Oeste</td>\n",
       "      <td>1</td>\n",
       "    </tr>\n",
       "    <tr>\n",
       "      <th>3</th>\n",
       "      <td>XXXXXXX99</td>\n",
       "      <td>27</td>\n",
       "      <td>5409</td>\n",
       "      <td>batom</td>\n",
       "      <td>Sul</td>\n",
       "      <td>1</td>\n",
       "    </tr>\n",
       "    <tr>\n",
       "      <th>4</th>\n",
       "      <td>XXXXXXX98</td>\n",
       "      <td>24</td>\n",
       "      <td>1142</td>\n",
       "      <td>batom</td>\n",
       "      <td>Sudeste</td>\n",
       "      <td>1</td>\n",
       "    </tr>\n",
       "  </tbody>\n",
       "</table>\n",
       "</div>"
      ],
      "text/plain": [
       "  id_cliente  idade  renda      produto     regiao-BR  pre-pandemia\n",
       "0  XXXXXXX72     30   7452        batom       Sudeste             1\n",
       "1  XXXXXXX15     59    837  desodorante      Nordeste             1\n",
       "2  XXXXXXX70     28   3231       sombra  Centro-Oeste             1\n",
       "3  XXXXXXX99     27   5409        batom           Sul             1\n",
       "4  XXXXXXX98     24   1142        batom       Sudeste             1"
      ]
     },
     "execution_count": 238,
     "metadata": {},
     "output_type": "execute_result"
    }
   ],
   "source": [
    "# Separando o dataframe em pré e pós pandemia\n",
    "pre_pandemia = clientes_df.loc[clientes_df[\"pre-pandemia\"] == 1]\n",
    "pre_pandemia.head()"
   ]
  },
  {
   "cell_type": "code",
   "execution_count": 239,
   "metadata": {},
   "outputs": [
    {
     "data": {
      "text/html": [
       "<div>\n",
       "<style scoped>\n",
       "    .dataframe tbody tr th:only-of-type {\n",
       "        vertical-align: middle;\n",
       "    }\n",
       "\n",
       "    .dataframe tbody tr th {\n",
       "        vertical-align: top;\n",
       "    }\n",
       "\n",
       "    .dataframe thead th {\n",
       "        text-align: right;\n",
       "    }\n",
       "</style>\n",
       "<table border=\"1\" class=\"dataframe\">\n",
       "  <thead>\n",
       "    <tr style=\"text-align: right;\">\n",
       "      <th></th>\n",
       "      <th>id_cliente</th>\n",
       "      <th>idade</th>\n",
       "      <th>renda</th>\n",
       "      <th>produto</th>\n",
       "      <th>regiao-BR</th>\n",
       "      <th>pre-pandemia</th>\n",
       "    </tr>\n",
       "  </thead>\n",
       "  <tbody>\n",
       "    <tr>\n",
       "      <th>101</th>\n",
       "      <td>XXXXXXX67</td>\n",
       "      <td>35</td>\n",
       "      <td>25959</td>\n",
       "      <td>batom</td>\n",
       "      <td>Sul</td>\n",
       "      <td>0</td>\n",
       "    </tr>\n",
       "    <tr>\n",
       "      <th>102</th>\n",
       "      <td>XXXXXXX60</td>\n",
       "      <td>35</td>\n",
       "      <td>1995</td>\n",
       "      <td>desodorante</td>\n",
       "      <td>Nordeste</td>\n",
       "      <td>0</td>\n",
       "    </tr>\n",
       "    <tr>\n",
       "      <th>103</th>\n",
       "      <td>XXXXXXX48</td>\n",
       "      <td>53</td>\n",
       "      <td>23314</td>\n",
       "      <td>antissinais</td>\n",
       "      <td>Centro-Oeste</td>\n",
       "      <td>0</td>\n",
       "    </tr>\n",
       "    <tr>\n",
       "      <th>104</th>\n",
       "      <td>XXXXXXX67</td>\n",
       "      <td>44</td>\n",
       "      <td>16693</td>\n",
       "      <td>antissinais</td>\n",
       "      <td>Centro-Oeste</td>\n",
       "      <td>0</td>\n",
       "    </tr>\n",
       "    <tr>\n",
       "      <th>105</th>\n",
       "      <td>XXXXXXX59</td>\n",
       "      <td>37</td>\n",
       "      <td>14631</td>\n",
       "      <td>base</td>\n",
       "      <td>Nordeste</td>\n",
       "      <td>0</td>\n",
       "    </tr>\n",
       "  </tbody>\n",
       "</table>\n",
       "</div>"
      ],
      "text/plain": [
       "    id_cliente  idade  renda      produto     regiao-BR  pre-pandemia\n",
       "101  XXXXXXX67     35  25959        batom           Sul             0\n",
       "102  XXXXXXX60     35   1995  desodorante      Nordeste             0\n",
       "103  XXXXXXX48     53  23314  antissinais  Centro-Oeste             0\n",
       "104  XXXXXXX67     44  16693  antissinais  Centro-Oeste             0\n",
       "105  XXXXXXX59     37  14631         base      Nordeste             0"
      ]
     },
     "execution_count": 239,
     "metadata": {},
     "output_type": "execute_result"
    }
   ],
   "source": [
    "pos_pandemia = clientes_df.loc[clientes_df[\"pre-pandemia\"] == 0]\n",
    "pos_pandemia.head()"
   ]
  },
  {
   "cell_type": "markdown",
   "metadata": {},
   "source": [
    "#### Idade"
   ]
  },
  {
   "cell_type": "code",
   "execution_count": 240,
   "metadata": {},
   "outputs": [
    {
     "data": {
      "text/plain": [
       "idade\n",
       "37    5\n",
       "26    5\n",
       "36    4\n",
       "31    4\n",
       "38    4\n",
       "Name: count, dtype: int64"
      ]
     },
     "execution_count": 240,
     "metadata": {},
     "output_type": "execute_result"
    }
   ],
   "source": [
    "frequencia_absoluta_pre = pre_pandemia.idade.value_counts()\n",
    "frequencia_absoluta_pre.head()"
   ]
  },
  {
   "cell_type": "code",
   "execution_count": 241,
   "metadata": {},
   "outputs": [
    {
     "data": {
      "text/plain": [
       "idade\n",
       "37    0.049505\n",
       "26    0.049505\n",
       "36    0.039604\n",
       "31    0.039604\n",
       "38    0.039604\n",
       "Name: proportion, dtype: float64"
      ]
     },
     "execution_count": 241,
     "metadata": {},
     "output_type": "execute_result"
    }
   ],
   "source": [
    "frequencia_relativa_pre = pre_pandemia.idade.value_counts(normalize=True)\n",
    "frequencia_relativa_pre.head()"
   ]
  },
  {
   "cell_type": "code",
   "execution_count": 242,
   "metadata": {},
   "outputs": [
    {
     "data": {
      "text/html": [
       "<div>\n",
       "<style scoped>\n",
       "    .dataframe tbody tr th:only-of-type {\n",
       "        vertical-align: middle;\n",
       "    }\n",
       "\n",
       "    .dataframe tbody tr th {\n",
       "        vertical-align: top;\n",
       "    }\n",
       "\n",
       "    .dataframe thead th {\n",
       "        text-align: right;\n",
       "    }\n",
       "</style>\n",
       "<table border=\"1\" class=\"dataframe\">\n",
       "  <thead>\n",
       "    <tr style=\"text-align: right;\">\n",
       "      <th></th>\n",
       "      <th>Frequência Absoluta</th>\n",
       "      <th>Frequência Relativa</th>\n",
       "    </tr>\n",
       "    <tr>\n",
       "      <th>idade</th>\n",
       "      <th></th>\n",
       "      <th></th>\n",
       "    </tr>\n",
       "  </thead>\n",
       "  <tbody>\n",
       "    <tr>\n",
       "      <th>16</th>\n",
       "      <td>1</td>\n",
       "      <td>0.009901</td>\n",
       "    </tr>\n",
       "    <tr>\n",
       "      <th>17</th>\n",
       "      <td>1</td>\n",
       "      <td>0.009901</td>\n",
       "    </tr>\n",
       "    <tr>\n",
       "      <th>19</th>\n",
       "      <td>1</td>\n",
       "      <td>0.009901</td>\n",
       "    </tr>\n",
       "    <tr>\n",
       "      <th>20</th>\n",
       "      <td>2</td>\n",
       "      <td>0.019802</td>\n",
       "    </tr>\n",
       "    <tr>\n",
       "      <th>21</th>\n",
       "      <td>2</td>\n",
       "      <td>0.019802</td>\n",
       "    </tr>\n",
       "  </tbody>\n",
       "</table>\n",
       "</div>"
      ],
      "text/plain": [
       "       Frequência Absoluta  Frequência Relativa\n",
       "idade                                          \n",
       "16                       1             0.009901\n",
       "17                       1             0.009901\n",
       "19                       1             0.009901\n",
       "20                       2             0.019802\n",
       "21                       2             0.019802"
      ]
     },
     "execution_count": 242,
     "metadata": {},
     "output_type": "execute_result"
    }
   ],
   "source": [
    "distribuicao_idade_pre = pd.DataFrame(\n",
    "    data={'Frequência Absoluta' : frequencia_absoluta_pre,\n",
    "          'Frequência Relativa' : frequencia_relativa_pre}\n",
    ")\n",
    "distribuicao_idade_pre.sort_index(inplace=True)\n",
    "distribuicao_idade_pre.head()"
   ]
  },
  {
   "cell_type": "code",
   "execution_count": 243,
   "metadata": {},
   "outputs": [
    {
     "name": "stderr",
     "output_type": "stream",
     "text": [
      "/tmp/ipykernel_6220/2117096670.py:1: UserWarning: \n",
      "\n",
      "`distplot` is a deprecated function and will be removed in seaborn v0.14.0.\n",
      "\n",
      "Please adapt your code to use either `displot` (a figure-level function with\n",
      "similar flexibility) or `histplot` (an axes-level function for histograms).\n",
      "\n",
      "For a guide to updating your code to use the new functions, please see\n",
      "https://gist.github.com/mwaskom/de44147ed2974457ad6372750bbe5751\n",
      "\n",
      "  ax = sns.distplot(pre_pandemia.idade)\n"
     ]
    },
    {
     "data": {
      "text/plain": [
       "<Axes: title={'center': 'Distribuição da idade no período de pré-pandemia'}, xlabel='Anos', ylabel='Density'>"
      ]
     },
     "execution_count": 243,
     "metadata": {},
     "output_type": "execute_result"
    },
    {
     "data": {
      "image/png": "[encoded data removed]",
      "text/plain": [
       "<Figure size 1200x600 with 1 Axes>"
      ]
     },
     "metadata": {},
     "output_type": "display_data"
    }
   ],
   "source": [
    "ax = sns.distplot(pre_pandemia.idade)\n",
    "\n",
    "ax.figure.set_size_inches(12, 6)\n",
    "ax.set_title('Distribuição da idade no período de pré-pandemia', fontsize=18)\n",
    "ax.set_xlabel('Anos', fontsize=14)\n",
    "ax"
   ]
  },
  {
   "cell_type": "code",
   "execution_count": 244,
   "metadata": {},
   "outputs": [
    {
     "data": {
      "text/plain": [
       "idade\n",
       "56    7\n",
       "46    5\n",
       "35    4\n",
       "48    4\n",
       "27    4\n",
       "Name: count, dtype: int64"
      ]
     },
     "execution_count": 244,
     "metadata": {},
     "output_type": "execute_result"
    }
   ],
   "source": [
    "frequencia_absoluta_pos = pos_pandemia.idade.value_counts()\n",
    "frequencia_absoluta_pos.head()"
   ]
  },
  {
   "cell_type": "code",
   "execution_count": 245,
   "metadata": {},
   "outputs": [
    {
     "data": {
      "text/plain": [
       "idade\n",
       "56    0.068627\n",
       "46    0.049020\n",
       "35    0.039216\n",
       "48    0.039216\n",
       "27    0.039216\n",
       "Name: proportion, dtype: float64"
      ]
     },
     "execution_count": 245,
     "metadata": {},
     "output_type": "execute_result"
    }
   ],
   "source": [
    "frequencia_relativa_pos = pos_pandemia.idade.value_counts(normalize=True)\n",
    "frequencia_relativa_pos.head()"
   ]
  },
  {
   "cell_type": "code",
   "execution_count": 246,
   "metadata": {},
   "outputs": [
    {
     "data": {
      "text/html": [
       "<div>\n",
       "<style scoped>\n",
       "    .dataframe tbody tr th:only-of-type {\n",
       "        vertical-align: middle;\n",
       "    }\n",
       "\n",
       "    .dataframe tbody tr th {\n",
       "        vertical-align: top;\n",
       "    }\n",
       "\n",
       "    .dataframe thead th {\n",
       "        text-align: right;\n",
       "    }\n",
       "</style>\n",
       "<table border=\"1\" class=\"dataframe\">\n",
       "  <thead>\n",
       "    <tr style=\"text-align: right;\">\n",
       "      <th></th>\n",
       "      <th>Frequência Absoluta</th>\n",
       "      <th>Frequência Relativa</th>\n",
       "    </tr>\n",
       "    <tr>\n",
       "      <th>idade</th>\n",
       "      <th></th>\n",
       "      <th></th>\n",
       "    </tr>\n",
       "  </thead>\n",
       "  <tbody>\n",
       "    <tr>\n",
       "      <th>15</th>\n",
       "      <td>1</td>\n",
       "      <td>0.009804</td>\n",
       "    </tr>\n",
       "    <tr>\n",
       "      <th>17</th>\n",
       "      <td>2</td>\n",
       "      <td>0.019608</td>\n",
       "    </tr>\n",
       "    <tr>\n",
       "      <th>22</th>\n",
       "      <td>1</td>\n",
       "      <td>0.009804</td>\n",
       "    </tr>\n",
       "    <tr>\n",
       "      <th>23</th>\n",
       "      <td>1</td>\n",
       "      <td>0.009804</td>\n",
       "    </tr>\n",
       "    <tr>\n",
       "      <th>24</th>\n",
       "      <td>2</td>\n",
       "      <td>0.019608</td>\n",
       "    </tr>\n",
       "  </tbody>\n",
       "</table>\n",
       "</div>"
      ],
      "text/plain": [
       "       Frequência Absoluta  Frequência Relativa\n",
       "idade                                          \n",
       "15                       1             0.009804\n",
       "17                       2             0.019608\n",
       "22                       1             0.009804\n",
       "23                       1             0.009804\n",
       "24                       2             0.019608"
      ]
     },
     "execution_count": 246,
     "metadata": {},
     "output_type": "execute_result"
    }
   ],
   "source": [
    "distribuicao_idade_pos = pd.DataFrame(\n",
    "    data={'Frequência Absoluta' : frequencia_absoluta_pos,\n",
    "          'Frequência Relativa' : frequencia_relativa_pos}\n",
    ")\n",
    "distribuicao_idade_pos.sort_index(inplace=True)\n",
    "distribuicao_idade_pos.head()"
   ]
  },
  {
   "cell_type": "code",
   "execution_count": 247,
   "metadata": {},
   "outputs": [
    {
     "name": "stderr",
     "output_type": "stream",
     "text": [
      "/tmp/ipykernel_6220/2687026523.py:1: UserWarning: \n",
      "\n",
      "`distplot` is a deprecated function and will be removed in seaborn v0.14.0.\n",
      "\n",
      "Please adapt your code to use either `displot` (a figure-level function with\n",
      "similar flexibility) or `histplot` (an axes-level function for histograms).\n",
      "\n",
      "For a guide to updating your code to use the new functions, please see\n",
      "https://gist.github.com/mwaskom/de44147ed2974457ad6372750bbe5751\n",
      "\n",
      "  ax = sns.distplot(pos_pandemia.idade)\n"
     ]
    },
    {
     "data": {
      "text/plain": [
       "<Axes: title={'center': 'Distribuição da idade no período de pós-pandemia'}, xlabel='Anos', ylabel='Density'>"
      ]
     },
     "execution_count": 247,
     "metadata": {},
     "output_type": "execute_result"
    },
    {
     "data": {
      "image/png": "[encoded data removed]",
      "text/plain": [
       "<Figure size 1200x600 with 1 Axes>"
      ]
     },
     "metadata": {},
     "output_type": "display_data"
    }
   ],
   "source": [
    "ax = sns.distplot(pos_pandemia.idade)\n",
    "\n",
    "ax.figure.set_size_inches(12, 6)\n",
    "ax.set_title('Distribuição da idade no período de pós-pandemia', fontsize=18)\n",
    "ax.set_xlabel('Anos', fontsize=14)\n",
    "ax"
   ]
  },
  {
   "cell_type": "code",
   "execution_count": 248,
   "metadata": {},
   "outputs": [
    {
     "data": {
      "text/html": [
       "<div>\n",
       "<style scoped>\n",
       "    .dataframe tbody tr th:only-of-type {\n",
       "        vertical-align: middle;\n",
       "    }\n",
       "\n",
       "    .dataframe tbody tr th {\n",
       "        vertical-align: top;\n",
       "    }\n",
       "\n",
       "    .dataframe thead th {\n",
       "        text-align: right;\n",
       "    }\n",
       "</style>\n",
       "<table border=\"1\" class=\"dataframe\">\n",
       "  <thead>\n",
       "    <tr style=\"text-align: right;\">\n",
       "      <th></th>\n",
       "      <th>min</th>\n",
       "      <th>max</th>\n",
       "      <th>mean</th>\n",
       "      <th>median</th>\n",
       "    </tr>\n",
       "    <tr>\n",
       "      <th>pre-pandemia</th>\n",
       "      <th></th>\n",
       "      <th></th>\n",
       "      <th></th>\n",
       "      <th></th>\n",
       "    </tr>\n",
       "  </thead>\n",
       "  <tbody>\n",
       "    <tr>\n",
       "      <th>Não</th>\n",
       "      <td>15</td>\n",
       "      <td>77</td>\n",
       "      <td>44.901961</td>\n",
       "      <td>46.0</td>\n",
       "    </tr>\n",
       "    <tr>\n",
       "      <th>Sim</th>\n",
       "      <td>16</td>\n",
       "      <td>80</td>\n",
       "      <td>39.881188</td>\n",
       "      <td>37.0</td>\n",
       "    </tr>\n",
       "  </tbody>\n",
       "</table>\n",
       "</div>"
      ],
      "text/plain": [
       "              min  max       mean  median\n",
       "pre-pandemia                             \n",
       "Não            15   77  44.901961    46.0\n",
       "Sim            16   80  39.881188    37.0"
      ]
     },
     "execution_count": 248,
     "metadata": {},
     "output_type": "execute_result"
    }
   ],
   "source": [
    "idade_info_pandemia = clientes_df.groupby('pre-pandemia')['idade'].agg(['min', 'max', 'mean', 'median'])\n",
    "idade_info_pandemia.rename(index={0: 'Não', 1: 'Sim'})"
   ]
  },
  {
   "cell_type": "code",
   "execution_count": 249,
   "metadata": {},
   "outputs": [
    {
     "data": {
      "text/plain": [
       "<Axes: title={'center': 'Idade'}, xlabel='Anos', ylabel='pre-pandemia'>"
      ]
     },
     "execution_count": 249,
     "metadata": {},
     "output_type": "execute_result"
    },
    {
     "data": {
      "image/png": "[encoded data removed]",
      "text/plain": [
       "<Figure size 1400x600 with 1 Axes>"
      ]
     },
     "metadata": {},
     "output_type": "display_data"
    }
   ],
   "source": [
    "ax = sns.boxplot(x='idade', y='pre-pandemia', data=clientes_df, orient='h')\n",
    "ax.figure.set_size_inches(14, 6)\n",
    "ax.set_title(\"Idade\", fontsize=18)\n",
    "ax.set_xlabel(\"Anos\", fontsize=14)\n",
    "ax.set_yticklabels(['Não', 'Sim'], fontsize=12)\n",
    "ax"
   ]
  },
  {
   "cell_type": "markdown",
   "metadata": {},
   "source": [
    "#### Renda"
   ]
  },
  {
   "cell_type": "code",
   "execution_count": 250,
   "metadata": {},
   "outputs": [
    {
     "data": {
      "text/plain": [
       "renda\n",
       "7452     1\n",
       "14108    1\n",
       "5112     1\n",
       "6525     1\n",
       "11375    1\n",
       "Name: count, dtype: int64"
      ]
     },
     "execution_count": 250,
     "metadata": {},
     "output_type": "execute_result"
    }
   ],
   "source": [
    "frequencia_absoluta_pre = pre_pandemia.renda.value_counts()\n",
    "frequencia_absoluta_pre.head()"
   ]
  },
  {
   "cell_type": "code",
   "execution_count": 251,
   "metadata": {},
   "outputs": [
    {
     "data": {
      "text/plain": [
       "renda\n",
       "7452     0.009901\n",
       "14108    0.009901\n",
       "5112     0.009901\n",
       "6525     0.009901\n",
       "11375    0.009901\n",
       "Name: proportion, dtype: float64"
      ]
     },
     "execution_count": 251,
     "metadata": {},
     "output_type": "execute_result"
    }
   ],
   "source": [
    "frequencia_relativa_pre = pre_pandemia.renda.value_counts(normalize=True)\n",
    "frequencia_relativa_pre.head()"
   ]
  },
  {
   "cell_type": "code",
   "execution_count": 252,
   "metadata": {},
   "outputs": [
    {
     "data": {
      "text/html": [
       "<div>\n",
       "<style scoped>\n",
       "    .dataframe tbody tr th:only-of-type {\n",
       "        vertical-align: middle;\n",
       "    }\n",
       "\n",
       "    .dataframe tbody tr th {\n",
       "        vertical-align: top;\n",
       "    }\n",
       "\n",
       "    .dataframe thead th {\n",
       "        text-align: right;\n",
       "    }\n",
       "</style>\n",
       "<table border=\"1\" class=\"dataframe\">\n",
       "  <thead>\n",
       "    <tr style=\"text-align: right;\">\n",
       "      <th></th>\n",
       "      <th>Frequência Absoluta</th>\n",
       "      <th>Frequência Relativa</th>\n",
       "    </tr>\n",
       "    <tr>\n",
       "      <th>renda</th>\n",
       "      <th></th>\n",
       "      <th></th>\n",
       "    </tr>\n",
       "  </thead>\n",
       "  <tbody>\n",
       "    <tr>\n",
       "      <th>110</th>\n",
       "      <td>1</td>\n",
       "      <td>0.009901</td>\n",
       "    </tr>\n",
       "    <tr>\n",
       "      <th>251</th>\n",
       "      <td>1</td>\n",
       "      <td>0.009901</td>\n",
       "    </tr>\n",
       "    <tr>\n",
       "      <th>298</th>\n",
       "      <td>1</td>\n",
       "      <td>0.009901</td>\n",
       "    </tr>\n",
       "    <tr>\n",
       "      <th>837</th>\n",
       "      <td>1</td>\n",
       "      <td>0.009901</td>\n",
       "    </tr>\n",
       "    <tr>\n",
       "      <th>1142</th>\n",
       "      <td>1</td>\n",
       "      <td>0.009901</td>\n",
       "    </tr>\n",
       "  </tbody>\n",
       "</table>\n",
       "</div>"
      ],
      "text/plain": [
       "       Frequência Absoluta  Frequência Relativa\n",
       "renda                                          \n",
       "110                      1             0.009901\n",
       "251                      1             0.009901\n",
       "298                      1             0.009901\n",
       "837                      1             0.009901\n",
       "1142                     1             0.009901"
      ]
     },
     "execution_count": 252,
     "metadata": {},
     "output_type": "execute_result"
    }
   ],
   "source": [
    "distribuicao_renda_pre = pd.DataFrame(\n",
    "    data={'Frequência Absoluta' : frequencia_absoluta_pre,\n",
    "          'Frequência Relativa' : frequencia_relativa_pre}\n",
    ")\n",
    "distribuicao_renda_pre.sort_index(inplace=True)\n",
    "distribuicao_renda_pre.head()"
   ]
  },
  {
   "cell_type": "code",
   "execution_count": 253,
   "metadata": {},
   "outputs": [
    {
     "name": "stderr",
     "output_type": "stream",
     "text": [
      "/tmp/ipykernel_6220/3693543523.py:1: UserWarning: \n",
      "\n",
      "`distplot` is a deprecated function and will be removed in seaborn v0.14.0.\n",
      "\n",
      "Please adapt your code to use either `displot` (a figure-level function with\n",
      "similar flexibility) or `histplot` (an axes-level function for histograms).\n",
      "\n",
      "For a guide to updating your code to use the new functions, please see\n",
      "https://gist.github.com/mwaskom/de44147ed2974457ad6372750bbe5751\n",
      "\n",
      "  ax = sns.distplot(pre_pandemia.renda)\n"
     ]
    },
    {
     "data": {
      "text/plain": [
       "<Axes: title={'center': 'Distribuição da renda no período de pré-pandemia'}, xlabel='Anos', ylabel='Density'>"
      ]
     },
     "execution_count": 253,
     "metadata": {},
     "output_type": "execute_result"
    },
    {
     "data": {
      "image/png": "[encoded data removed]",
      "text/plain": [
       "<Figure size 1200x600 with 1 Axes>"
      ]
     },
     "metadata": {},
     "output_type": "display_data"
    }
   ],
   "source": [
    "ax = sns.distplot(pre_pandemia.renda)\n",
    "\n",
    "ax.figure.set_size_inches(12, 6)\n",
    "ax.set_title('Distribuição da renda no período de pré-pandemia', fontsize=18)\n",
    "ax.set_xlabel('Anos', fontsize=14)\n",
    "ax"
   ]
  },
  {
   "cell_type": "code",
   "execution_count": 254,
   "metadata": {},
   "outputs": [
    {
     "data": {
      "text/plain": [
       "renda\n",
       "25959    1\n",
       "18166    1\n",
       "21422    1\n",
       "15387    1\n",
       "5530     1\n",
       "Name: count, dtype: int64"
      ]
     },
     "execution_count": 254,
     "metadata": {},
     "output_type": "execute_result"
    }
   ],
   "source": [
    "frequencia_absoluta_pos = pos_pandemia.renda.value_counts()\n",
    "frequencia_absoluta_pos.head()"
   ]
  },
  {
   "cell_type": "code",
   "execution_count": 255,
   "metadata": {},
   "outputs": [
    {
     "data": {
      "text/plain": [
       "renda\n",
       "25959    0.009804\n",
       "18166    0.009804\n",
       "21422    0.009804\n",
       "15387    0.009804\n",
       "5530     0.009804\n",
       "Name: proportion, dtype: float64"
      ]
     },
     "execution_count": 255,
     "metadata": {},
     "output_type": "execute_result"
    }
   ],
   "source": [
    "frequencia_relativa_pos = pos_pandemia.renda.value_counts(normalize=True)\n",
    "frequencia_relativa_pos.head()"
   ]
  },
  {
   "cell_type": "code",
   "execution_count": 256,
   "metadata": {},
   "outputs": [
    {
     "data": {
      "text/html": [
       "<div>\n",
       "<style scoped>\n",
       "    .dataframe tbody tr th:only-of-type {\n",
       "        vertical-align: middle;\n",
       "    }\n",
       "\n",
       "    .dataframe tbody tr th {\n",
       "        vertical-align: top;\n",
       "    }\n",
       "\n",
       "    .dataframe thead th {\n",
       "        text-align: right;\n",
       "    }\n",
       "</style>\n",
       "<table border=\"1\" class=\"dataframe\">\n",
       "  <thead>\n",
       "    <tr style=\"text-align: right;\">\n",
       "      <th></th>\n",
       "      <th>Frequência Absoluta</th>\n",
       "      <th>Frequência Relativa</th>\n",
       "    </tr>\n",
       "    <tr>\n",
       "      <th>renda</th>\n",
       "      <th></th>\n",
       "      <th></th>\n",
       "    </tr>\n",
       "  </thead>\n",
       "  <tbody>\n",
       "    <tr>\n",
       "      <th>1995</th>\n",
       "      <td>1</td>\n",
       "      <td>0.009804</td>\n",
       "    </tr>\n",
       "    <tr>\n",
       "      <th>3191</th>\n",
       "      <td>1</td>\n",
       "      <td>0.009804</td>\n",
       "    </tr>\n",
       "    <tr>\n",
       "      <th>4148</th>\n",
       "      <td>1</td>\n",
       "      <td>0.009804</td>\n",
       "    </tr>\n",
       "    <tr>\n",
       "      <th>5512</th>\n",
       "      <td>1</td>\n",
       "      <td>0.009804</td>\n",
       "    </tr>\n",
       "    <tr>\n",
       "      <th>5530</th>\n",
       "      <td>1</td>\n",
       "      <td>0.009804</td>\n",
       "    </tr>\n",
       "  </tbody>\n",
       "</table>\n",
       "</div>"
      ],
      "text/plain": [
       "       Frequência Absoluta  Frequência Relativa\n",
       "renda                                          \n",
       "1995                     1             0.009804\n",
       "3191                     1             0.009804\n",
       "4148                     1             0.009804\n",
       "5512                     1             0.009804\n",
       "5530                     1             0.009804"
      ]
     },
     "execution_count": 256,
     "metadata": {},
     "output_type": "execute_result"
    }
   ],
   "source": [
    "distribuicao_renda_pos = pd.DataFrame(\n",
    "    data={'Frequência Absoluta' : frequencia_absoluta_pos,\n",
    "          'Frequência Relativa' : frequencia_relativa_pos}\n",
    ")\n",
    "distribuicao_renda_pos.sort_index(inplace=True)\n",
    "distribuicao_renda_pos.head()"
   ]
  },
  {
   "cell_type": "code",
   "execution_count": 257,
   "metadata": {},
   "outputs": [
    {
     "name": "stderr",
     "output_type": "stream",
     "text": [
      "/tmp/ipykernel_6220/4279020928.py:1: UserWarning: \n",
      "\n",
      "`distplot` is a deprecated function and will be removed in seaborn v0.14.0.\n",
      "\n",
      "Please adapt your code to use either `displot` (a figure-level function with\n",
      "similar flexibility) or `histplot` (an axes-level function for histograms).\n",
      "\n",
      "For a guide to updating your code to use the new functions, please see\n",
      "https://gist.github.com/mwaskom/de44147ed2974457ad6372750bbe5751\n",
      "\n",
      "  ax = sns.distplot(pos_pandemia.renda)\n"
     ]
    },
    {
     "data": {
      "text/plain": [
       "<Axes: title={'center': 'Distribuição da renda no período de pós-pandemia'}, xlabel='Anos', ylabel='Density'>"
      ]
     },
     "execution_count": 257,
     "metadata": {},
     "output_type": "execute_result"
    },
    {
     "data": {
      "image/png": "[encoded data removed]",
      "text/plain": [
       "<Figure size 1200x600 with 1 Axes>"
      ]
     },
     "metadata": {},
     "output_type": "display_data"
    }
   ],
   "source": [
    "ax = sns.distplot(pos_pandemia.renda)\n",
    "\n",
    "ax.figure.set_size_inches(12, 6)\n",
    "ax.set_title('Distribuição da renda no período de pós-pandemia', fontsize=18)\n",
    "ax.set_xlabel('Anos', fontsize=14)\n",
    "ax"
   ]
  },
  {
   "cell_type": "code",
   "execution_count": 258,
   "metadata": {},
   "outputs": [
    {
     "data": {
      "text/html": [
       "<div>\n",
       "<style scoped>\n",
       "    .dataframe tbody tr th:only-of-type {\n",
       "        vertical-align: middle;\n",
       "    }\n",
       "\n",
       "    .dataframe tbody tr th {\n",
       "        vertical-align: top;\n",
       "    }\n",
       "\n",
       "    .dataframe thead th {\n",
       "        text-align: right;\n",
       "    }\n",
       "</style>\n",
       "<table border=\"1\" class=\"dataframe\">\n",
       "  <thead>\n",
       "    <tr style=\"text-align: right;\">\n",
       "      <th></th>\n",
       "      <th>min</th>\n",
       "      <th>max</th>\n",
       "      <th>mean</th>\n",
       "      <th>median</th>\n",
       "    </tr>\n",
       "    <tr>\n",
       "      <th>pre-pandemia</th>\n",
       "      <th></th>\n",
       "      <th></th>\n",
       "      <th></th>\n",
       "      <th></th>\n",
       "    </tr>\n",
       "  </thead>\n",
       "  <tbody>\n",
       "    <tr>\n",
       "      <th>Não</th>\n",
       "      <td>1995</td>\n",
       "      <td>30000</td>\n",
       "      <td>13968.500000</td>\n",
       "      <td>13380.5</td>\n",
       "    </tr>\n",
       "    <tr>\n",
       "      <th>Sim</th>\n",
       "      <td>110</td>\n",
       "      <td>24090</td>\n",
       "      <td>9180.643564</td>\n",
       "      <td>7488.0</td>\n",
       "    </tr>\n",
       "  </tbody>\n",
       "</table>\n",
       "</div>"
      ],
      "text/plain": [
       "               min    max          mean   median\n",
       "pre-pandemia                                    \n",
       "Não           1995  30000  13968.500000  13380.5\n",
       "Sim            110  24090   9180.643564   7488.0"
      ]
     },
     "execution_count": 258,
     "metadata": {},
     "output_type": "execute_result"
    }
   ],
   "source": [
    "renda_info_pandemia = clientes_df.groupby('pre-pandemia')['renda'].agg(['min', 'max', 'mean', 'median'])\n",
    "renda_info_pandemia.rename(index={0: 'Não', 1: 'Sim'})"
   ]
  },
  {
   "cell_type": "code",
   "execution_count": 259,
   "metadata": {},
   "outputs": [
    {
     "data": {
      "text/plain": [
       "<Axes: title={'center': 'Renda'}, xlabel='R$', ylabel='pre-pandemia'>"
      ]
     },
     "execution_count": 259,
     "metadata": {},
     "output_type": "execute_result"
    },
    {
     "data": {
      "image/png": "[encoded data removed]",
      "text/plain": [
       "<Figure size 1400x600 with 1 Axes>"
      ]
     },
     "metadata": {},
     "output_type": "display_data"
    }
   ],
   "source": [
    "ax = sns.boxplot(x='renda', y='pre-pandemia', data=clientes_df, orient='h')\n",
    "ax.figure.set_size_inches(14, 6)\n",
    "ax.set_title(\"Renda\", fontsize=18)\n",
    "ax.set_xlabel(\"R$\", fontsize=14)\n",
    "ax.set_yticklabels(['Não', 'Sim'], fontsize=12)\n",
    "ax"
   ]
  },
  {
   "cell_type": "markdown",
   "metadata": {},
   "source": [
    "#### Região"
   ]
  },
  {
   "cell_type": "code",
   "execution_count": 260,
   "metadata": {},
   "outputs": [
    {
     "data": {
      "text/plain": [
       "regiao-BR\n",
       "Sul             29\n",
       "Nordeste        26\n",
       "Sudeste         21\n",
       "Centro-Oeste    17\n",
       "Norte            8\n",
       "Name: count, dtype: int64"
      ]
     },
     "execution_count": 260,
     "metadata": {},
     "output_type": "execute_result"
    }
   ],
   "source": [
    "frequencia_absoluta_pre = pre_pandemia['regiao-BR'].value_counts()\n",
    "frequencia_absoluta_pre.head()"
   ]
  },
  {
   "cell_type": "code",
   "execution_count": 261,
   "metadata": {},
   "outputs": [
    {
     "data": {
      "text/plain": [
       "regiao-BR\n",
       "Sul             0.287129\n",
       "Nordeste        0.257426\n",
       "Sudeste         0.207921\n",
       "Centro-Oeste    0.168317\n",
       "Norte           0.079208\n",
       "Name: proportion, dtype: float64"
      ]
     },
     "execution_count": 261,
     "metadata": {},
     "output_type": "execute_result"
    }
   ],
   "source": [
    "frequencia_relativa_pre = pre_pandemia['regiao-BR'].value_counts(normalize=True)\n",
    "frequencia_relativa_pre.head()"
   ]
  },
  {
   "cell_type": "code",
   "execution_count": 262,
   "metadata": {},
   "outputs": [
    {
     "data": {
      "text/html": [
       "<div>\n",
       "<style scoped>\n",
       "    .dataframe tbody tr th:only-of-type {\n",
       "        vertical-align: middle;\n",
       "    }\n",
       "\n",
       "    .dataframe tbody tr th {\n",
       "        vertical-align: top;\n",
       "    }\n",
       "\n",
       "    .dataframe thead th {\n",
       "        text-align: right;\n",
       "    }\n",
       "</style>\n",
       "<table border=\"1\" class=\"dataframe\">\n",
       "  <thead>\n",
       "    <tr style=\"text-align: right;\">\n",
       "      <th></th>\n",
       "      <th>Frequência Absoluta</th>\n",
       "      <th>Frequência Relativa</th>\n",
       "    </tr>\n",
       "    <tr>\n",
       "      <th>regiao-BR</th>\n",
       "      <th></th>\n",
       "      <th></th>\n",
       "    </tr>\n",
       "  </thead>\n",
       "  <tbody>\n",
       "    <tr>\n",
       "      <th>Sul</th>\n",
       "      <td>29</td>\n",
       "      <td>0.287129</td>\n",
       "    </tr>\n",
       "    <tr>\n",
       "      <th>Nordeste</th>\n",
       "      <td>26</td>\n",
       "      <td>0.257426</td>\n",
       "    </tr>\n",
       "    <tr>\n",
       "      <th>Sudeste</th>\n",
       "      <td>21</td>\n",
       "      <td>0.207921</td>\n",
       "    </tr>\n",
       "    <tr>\n",
       "      <th>Centro-Oeste</th>\n",
       "      <td>17</td>\n",
       "      <td>0.168317</td>\n",
       "    </tr>\n",
       "    <tr>\n",
       "      <th>Norte</th>\n",
       "      <td>8</td>\n",
       "      <td>0.079208</td>\n",
       "    </tr>\n",
       "  </tbody>\n",
       "</table>\n",
       "</div>"
      ],
      "text/plain": [
       "              Frequência Absoluta  Frequência Relativa\n",
       "regiao-BR                                             \n",
       "Sul                            29             0.287129\n",
       "Nordeste                       26             0.257426\n",
       "Sudeste                        21             0.207921\n",
       "Centro-Oeste                   17             0.168317\n",
       "Norte                           8             0.079208"
      ]
     },
     "execution_count": 262,
     "metadata": {},
     "output_type": "execute_result"
    }
   ],
   "source": [
    "distribuicao_regiao_pre = pd.DataFrame(\n",
    "    data={'Frequência Absoluta' : frequencia_absoluta_pre,\n",
    "          'Frequência Relativa' : frequencia_relativa_pre}\n",
    ")\n",
    "distribuicao_regiao_pre.head()"
   ]
  },
  {
   "cell_type": "code",
   "execution_count": 263,
   "metadata": {},
   "outputs": [
    {
     "data": {
      "image/png": "[encoded data removed]",
      "text/plain": [
       "<Figure size 640x480 with 1 Axes>"
      ]
     },
     "metadata": {},
     "output_type": "display_data"
    }
   ],
   "source": [
    "barras = plt.bar(distribuicao_regiao_pre.index, distribuicao_regiao_pre['Frequência Absoluta'], color='lightgray')\n",
    "\n",
    "# destaque a região com mais clientes\n",
    "barras[0].set_color('green')\n",
    "\n",
    "# valores na barra\n",
    "plt.bar_label(barras, labels=distribuicao_regiao_pre['Frequência Absoluta'])\n",
    "\n",
    "# retirando as bordas do gráfico\n",
    "plt.box(False)\n",
    "\n",
    "# retirando o eixo y\n",
    "plt.yticks([])\n",
    "\n",
    "plt.title('Distribuição de vendas por região no período pré-pandemia')\n",
    "\n",
    "plt.show()"
   ]
  },
  {
   "cell_type": "code",
   "execution_count": 264,
   "metadata": {},
   "outputs": [
    {
     "data": {
      "text/plain": [
       "regiao-BR\n",
       "Sul             42\n",
       "Nordeste        25\n",
       "Sudeste         18\n",
       "Norte            9\n",
       "Centro-Oeste     8\n",
       "Name: count, dtype: int64"
      ]
     },
     "execution_count": 264,
     "metadata": {},
     "output_type": "execute_result"
    }
   ],
   "source": [
    "frequencia_absoluta_pos = pos_pandemia['regiao-BR'].value_counts()\n",
    "frequencia_absoluta_pos.head()"
   ]
  },
  {
   "cell_type": "code",
   "execution_count": 265,
   "metadata": {},
   "outputs": [
    {
     "data": {
      "text/plain": [
       "regiao-BR\n",
       "Sul             0.411765\n",
       "Nordeste        0.245098\n",
       "Sudeste         0.176471\n",
       "Norte           0.088235\n",
       "Centro-Oeste    0.078431\n",
       "Name: proportion, dtype: float64"
      ]
     },
     "execution_count": 265,
     "metadata": {},
     "output_type": "execute_result"
    }
   ],
   "source": [
    "frequencia_relativa_pos = pos_pandemia['regiao-BR'].value_counts(normalize=True)\n",
    "frequencia_relativa_pos.head()"
   ]
  },
  {
   "cell_type": "code",
   "execution_count": 266,
   "metadata": {},
   "outputs": [
    {
     "data": {
      "text/html": [
       "<div>\n",
       "<style scoped>\n",
       "    .dataframe tbody tr th:only-of-type {\n",
       "        vertical-align: middle;\n",
       "    }\n",
       "\n",
       "    .dataframe tbody tr th {\n",
       "        vertical-align: top;\n",
       "    }\n",
       "\n",
       "    .dataframe thead th {\n",
       "        text-align: right;\n",
       "    }\n",
       "</style>\n",
       "<table border=\"1\" class=\"dataframe\">\n",
       "  <thead>\n",
       "    <tr style=\"text-align: right;\">\n",
       "      <th></th>\n",
       "      <th>Frequência Absoluta</th>\n",
       "      <th>Frequência Relativa</th>\n",
       "    </tr>\n",
       "    <tr>\n",
       "      <th>regiao-BR</th>\n",
       "      <th></th>\n",
       "      <th></th>\n",
       "    </tr>\n",
       "  </thead>\n",
       "  <tbody>\n",
       "    <tr>\n",
       "      <th>Sul</th>\n",
       "      <td>42</td>\n",
       "      <td>0.411765</td>\n",
       "    </tr>\n",
       "    <tr>\n",
       "      <th>Nordeste</th>\n",
       "      <td>25</td>\n",
       "      <td>0.245098</td>\n",
       "    </tr>\n",
       "    <tr>\n",
       "      <th>Sudeste</th>\n",
       "      <td>18</td>\n",
       "      <td>0.176471</td>\n",
       "    </tr>\n",
       "    <tr>\n",
       "      <th>Norte</th>\n",
       "      <td>9</td>\n",
       "      <td>0.088235</td>\n",
       "    </tr>\n",
       "    <tr>\n",
       "      <th>Centro-Oeste</th>\n",
       "      <td>8</td>\n",
       "      <td>0.078431</td>\n",
       "    </tr>\n",
       "  </tbody>\n",
       "</table>\n",
       "</div>"
      ],
      "text/plain": [
       "              Frequência Absoluta  Frequência Relativa\n",
       "regiao-BR                                             \n",
       "Sul                            42             0.411765\n",
       "Nordeste                       25             0.245098\n",
       "Sudeste                        18             0.176471\n",
       "Norte                           9             0.088235\n",
       "Centro-Oeste                    8             0.078431"
      ]
     },
     "execution_count": 266,
     "metadata": {},
     "output_type": "execute_result"
    }
   ],
   "source": [
    "distribuicao_regiao_pos = pd.DataFrame(\n",
    "    data={'Frequência Absoluta' : frequencia_absoluta_pos,\n",
    "          'Frequência Relativa' : frequencia_relativa_pos}\n",
    ")\n",
    "distribuicao_regiao_pos.head()"
   ]
  },
  {
   "cell_type": "code",
   "execution_count": 267,
   "metadata": {},
   "outputs": [
    {
     "data": {
      "image/png": "[encoded data removed]",
      "text/plain": [
       "<Figure size 640x480 with 1 Axes>"
      ]
     },
     "metadata": {},
     "output_type": "display_data"
    }
   ],
   "source": [
    "barras = plt.bar(distribuicao_regiao_pos.index, distribuicao_regiao_pos['Frequência Absoluta'], color='lightgray')\n",
    "\n",
    "# destaque a região com mais clientes\n",
    "barras[0].set_color('green')\n",
    "\n",
    "# valores na barra\n",
    "plt.bar_label(barras, labels=distribuicao_regiao_pos['Frequência Absoluta'])\n",
    "\n",
    "# retirando as bordas do gráfico\n",
    "plt.box(False)\n",
    "\n",
    "# retirando o eixo y\n",
    "plt.yticks([])\n",
    "\n",
    "plt.title('Distribuição de vendas por região no perído de pós-pandemia')\n",
    "\n",
    "plt.show()"
   ]
  },
  {
   "cell_type": "markdown",
   "metadata": {},
   "source": [
    "#### Produtos"
   ]
  },
  {
   "cell_type": "code",
   "execution_count": 268,
   "metadata": {},
   "outputs": [
    {
     "data": {
      "text/plain": [
       "produto\n",
       "batom          61\n",
       "desodorante    20\n",
       "antissinais     9\n",
       "sombra          4\n",
       "perfume         4\n",
       "Name: count, dtype: int64"
      ]
     },
     "execution_count": 268,
     "metadata": {},
     "output_type": "execute_result"
    }
   ],
   "source": [
    "frequencia_absoluta_pre = pre_pandemia.produto.value_counts()\n",
    "frequencia_absoluta_pre.head()"
   ]
  },
  {
   "cell_type": "code",
   "execution_count": 269,
   "metadata": {},
   "outputs": [
    {
     "data": {
      "text/plain": [
       "produto\n",
       "batom          0.603960\n",
       "desodorante    0.198020\n",
       "antissinais    0.089109\n",
       "sombra         0.039604\n",
       "perfume        0.039604\n",
       "Name: proportion, dtype: float64"
      ]
     },
     "execution_count": 269,
     "metadata": {},
     "output_type": "execute_result"
    }
   ],
   "source": [
    "frequencia_relativa_pre = pre_pandemia.produto.value_counts(normalize=True)\n",
    "frequencia_relativa_pre.head()"
   ]
  },
  {
   "cell_type": "code",
   "execution_count": 270,
   "metadata": {},
   "outputs": [
    {
     "data": {
      "text/html": [
       "<div>\n",
       "<style scoped>\n",
       "    .dataframe tbody tr th:only-of-type {\n",
       "        vertical-align: middle;\n",
       "    }\n",
       "\n",
       "    .dataframe tbody tr th {\n",
       "        vertical-align: top;\n",
       "    }\n",
       "\n",
       "    .dataframe thead th {\n",
       "        text-align: right;\n",
       "    }\n",
       "</style>\n",
       "<table border=\"1\" class=\"dataframe\">\n",
       "  <thead>\n",
       "    <tr style=\"text-align: right;\">\n",
       "      <th></th>\n",
       "      <th>Frequência Absoluta</th>\n",
       "      <th>Frequência Relativa</th>\n",
       "    </tr>\n",
       "    <tr>\n",
       "      <th>produto</th>\n",
       "      <th></th>\n",
       "      <th></th>\n",
       "    </tr>\n",
       "  </thead>\n",
       "  <tbody>\n",
       "    <tr>\n",
       "      <th>batom</th>\n",
       "      <td>61</td>\n",
       "      <td>0.603960</td>\n",
       "    </tr>\n",
       "    <tr>\n",
       "      <th>desodorante</th>\n",
       "      <td>20</td>\n",
       "      <td>0.198020</td>\n",
       "    </tr>\n",
       "    <tr>\n",
       "      <th>antissinais</th>\n",
       "      <td>9</td>\n",
       "      <td>0.089109</td>\n",
       "    </tr>\n",
       "    <tr>\n",
       "      <th>sombra</th>\n",
       "      <td>4</td>\n",
       "      <td>0.039604</td>\n",
       "    </tr>\n",
       "    <tr>\n",
       "      <th>perfume</th>\n",
       "      <td>4</td>\n",
       "      <td>0.039604</td>\n",
       "    </tr>\n",
       "  </tbody>\n",
       "</table>\n",
       "</div>"
      ],
      "text/plain": [
       "             Frequência Absoluta  Frequência Relativa\n",
       "produto                                              \n",
       "batom                         61             0.603960\n",
       "desodorante                   20             0.198020\n",
       "antissinais                    9             0.089109\n",
       "sombra                         4             0.039604\n",
       "perfume                        4             0.039604"
      ]
     },
     "execution_count": 270,
     "metadata": {},
     "output_type": "execute_result"
    }
   ],
   "source": [
    "distribuicao_produto_pre = pd.DataFrame(\n",
    "    data={'Frequência Absoluta' : frequencia_absoluta_pre,\n",
    "          'Frequência Relativa' : frequencia_relativa_pre}\n",
    ")\n",
    "distribuicao_produto_pre.head()"
   ]
  },
  {
   "cell_type": "code",
   "execution_count": 271,
   "metadata": {},
   "outputs": [
    {
     "data": {
      "image/png": "[encoded data removed]",
      "text/plain": [
       "<Figure size 1000x600 with 1 Axes>"
      ]
     },
     "metadata": {},
     "output_type": "display_data"
    }
   ],
   "source": [
    "# Define o tamanho da figura\n",
    "plt.figure(figsize=(10, 6))\n",
    "\n",
    "barras = plt.bar(distribuicao_produto_pre.index, distribuicao_produto_pre['Frequência Absoluta'], color='lightgray')\n",
    "\n",
    "# destaque a região com mais clientes\n",
    "barras[0].set_color('green')\n",
    "\n",
    "# valores na barra\n",
    "plt.bar_label(barras, labels=distribuicao_produto_pre['Frequência Absoluta'], padding=5)\n",
    "\n",
    "# retirando as bordas do gráfico\n",
    "plt.box(False)\n",
    "\n",
    "# retirando o eixo y\n",
    "plt.yticks([])\n",
    "\n",
    "plt.title('Produto mais vendido no período pré-pandemia')\n",
    "\n",
    "plt.show()"
   ]
  },
  {
   "cell_type": "code",
   "execution_count": 272,
   "metadata": {},
   "outputs": [
    {
     "data": {
      "text/plain": [
       "produto\n",
       "desodorante    46\n",
       "antissinais    20\n",
       "batom          15\n",
       "sombra          9\n",
       "perfume         8\n",
       "Name: count, dtype: int64"
      ]
     },
     "execution_count": 272,
     "metadata": {},
     "output_type": "execute_result"
    }
   ],
   "source": [
    "frequencia_absoluta_pos = pos_pandemia.produto.value_counts()\n",
    "frequencia_absoluta_pos.head()"
   ]
  },
  {
   "cell_type": "code",
   "execution_count": 273,
   "metadata": {},
   "outputs": [
    {
     "data": {
      "text/plain": [
       "produto\n",
       "desodorante    0.450980\n",
       "antissinais    0.196078\n",
       "batom          0.147059\n",
       "sombra         0.088235\n",
       "perfume        0.078431\n",
       "Name: proportion, dtype: float64"
      ]
     },
     "execution_count": 273,
     "metadata": {},
     "output_type": "execute_result"
    }
   ],
   "source": [
    "frequencia_relativa_pos = pos_pandemia.produto.value_counts(normalize=True)\n",
    "frequencia_relativa_pos.head()"
   ]
  },
  {
   "cell_type": "code",
   "execution_count": 274,
   "metadata": {},
   "outputs": [
    {
     "data": {
      "text/html": [
       "<div>\n",
       "<style scoped>\n",
       "    .dataframe tbody tr th:only-of-type {\n",
       "        vertical-align: middle;\n",
       "    }\n",
       "\n",
       "    .dataframe tbody tr th {\n",
       "        vertical-align: top;\n",
       "    }\n",
       "\n",
       "    .dataframe thead th {\n",
       "        text-align: right;\n",
       "    }\n",
       "</style>\n",
       "<table border=\"1\" class=\"dataframe\">\n",
       "  <thead>\n",
       "    <tr style=\"text-align: right;\">\n",
       "      <th></th>\n",
       "      <th>Frequência Absoluta</th>\n",
       "      <th>Frequência Relativa</th>\n",
       "    </tr>\n",
       "    <tr>\n",
       "      <th>produto</th>\n",
       "      <th></th>\n",
       "      <th></th>\n",
       "    </tr>\n",
       "  </thead>\n",
       "  <tbody>\n",
       "    <tr>\n",
       "      <th>desodorante</th>\n",
       "      <td>46</td>\n",
       "      <td>0.450980</td>\n",
       "    </tr>\n",
       "    <tr>\n",
       "      <th>antissinais</th>\n",
       "      <td>20</td>\n",
       "      <td>0.196078</td>\n",
       "    </tr>\n",
       "    <tr>\n",
       "      <th>batom</th>\n",
       "      <td>15</td>\n",
       "      <td>0.147059</td>\n",
       "    </tr>\n",
       "    <tr>\n",
       "      <th>sombra</th>\n",
       "      <td>9</td>\n",
       "      <td>0.088235</td>\n",
       "    </tr>\n",
       "    <tr>\n",
       "      <th>perfume</th>\n",
       "      <td>8</td>\n",
       "      <td>0.078431</td>\n",
       "    </tr>\n",
       "  </tbody>\n",
       "</table>\n",
       "</div>"
      ],
      "text/plain": [
       "             Frequência Absoluta  Frequência Relativa\n",
       "produto                                              \n",
       "desodorante                   46             0.450980\n",
       "antissinais                   20             0.196078\n",
       "batom                         15             0.147059\n",
       "sombra                         9             0.088235\n",
       "perfume                        8             0.078431"
      ]
     },
     "execution_count": 274,
     "metadata": {},
     "output_type": "execute_result"
    }
   ],
   "source": [
    "distribuicao_produto_pos = pd.DataFrame(\n",
    "    data={'Frequência Absoluta' : frequencia_absoluta_pos,\n",
    "          'Frequência Relativa' : frequencia_relativa_pos}\n",
    ")\n",
    "distribuicao_produto_pos.head()"
   ]
  },
  {
   "cell_type": "code",
   "execution_count": 275,
   "metadata": {},
   "outputs": [
    {
     "data": {
      "image/png": "[encoded data removed]",
      "text/plain": [
       "<Figure size 1000x600 with 1 Axes>"
      ]
     },
     "metadata": {},
     "output_type": "display_data"
    }
   ],
   "source": [
    "# Define o tamanho da figura\n",
    "plt.figure(figsize=(10, 6))\n",
    "\n",
    "barras = plt.bar(distribuicao_produto_pos.index, distribuicao_produto_pos['Frequência Absoluta'], color='lightgray')\n",
    "\n",
    "# destaque a região com mais clientes\n",
    "barras[0].set_color('green')\n",
    "\n",
    "# valores na barra\n",
    "plt.bar_label(barras, labels=distribuicao_produto_pos['Frequência Absoluta'], padding=5)\n",
    "\n",
    "# retirando as bordas do gráfico\n",
    "plt.box(False)\n",
    "\n",
    "# retirando o eixo y\n",
    "plt.yticks([])\n",
    "\n",
    "plt.title('Produto mais vendido no período pós-pandemia')\n",
    "\n",
    "plt.show()"
   ]
  },
  {
   "cell_type": "markdown",
   "metadata": {},
   "source": [
    "### Item 2"
   ]
  },
  {
   "cell_type": "code",
   "execution_count": 276,
   "metadata": {},
   "outputs": [
    {
     "data": {
      "text/plain": [
       "<Axes: title={'center': 'Renda'}, xlabel='R$', ylabel='Região'>"
      ]
     },
     "execution_count": 276,
     "metadata": {},
     "output_type": "execute_result"
    },
    {
     "data": {
      "image/png": "[encoded data removed]",
      "text/plain": [
       "<Figure size 1400x800 with 1 Axes>"
      ]
     },
     "metadata": {},
     "output_type": "display_data"
    }
   ],
   "source": [
    "ax = sns.boxplot(x='renda', y='regiao-BR', data=pre_pandemia, orient='h')\n",
    "ax.figure.set_size_inches(14, 8)\n",
    "ax.set_title(\"Renda\", fontsize=18)\n",
    "ax.set_xlabel(\"R$\", fontsize=14)\n",
    "ax.set_ylabel(\"Região\", fontsize=14)\n",
    "ax"
   ]
  },
  {
   "cell_type": "code",
   "execution_count": 277,
   "metadata": {},
   "outputs": [
    {
     "data": {
      "text/plain": [
       "<Axes: title={'center': 'Renda'}, xlabel='R$', ylabel='Região'>"
      ]
     },
     "execution_count": 277,
     "metadata": {},
     "output_type": "execute_result"
    },
    {
     "data": {
      "image/png": "[encoded data removed]",
      "text/plain": [
       "<Figure size 1400x800 with 1 Axes>"
      ]
     },
     "metadata": {},
     "output_type": "display_data"
    }
   ],
   "source": [
    "ax = sns.boxplot(x='renda', y='regiao-BR', data=pos_pandemia, orient='h')\n",
    "ax.figure.set_size_inches(14, 8)\n",
    "ax.set_title(\"Renda\", fontsize=18)\n",
    "ax.set_xlabel(\"R$\", fontsize=14)\n",
    "ax.set_ylabel(\"Região\", fontsize=14)\n",
    "ax"
   ]
  },
  {
   "cell_type": "markdown",
   "metadata": {},
   "source": [
    "#### Conclusão\n",
    "\n",
    "**Características do cliente no período de pré-pandemia**\n",
    "* Público alvo mais jovem, a média da idade dos clientes é de, aproximadamente, 39 anos\n",
    "* A renda média é de R$ 9.180,00\n",
    "* A região com mais vendas é a região Sul\n",
    "* Batom é o produto mais vendido\n",
    "\n",
    "**Características do cliente no período de pós-pandemia**\n",
    "* Público alvo mais velho, a média da idade dos clientes é de, aproximadamente, 46 anos\n",
    "* A renda média é de R$ 13.968,00\n",
    "* A região com mais vendas é a Sul\n",
    "* Desodorante é o produto mais vendido\n",
    "\n",
    "#### Diferenças nítidas pré e pós pandemia\n",
    "* A média de idade dos clientes teve um aumento de 7 anos (Lojas fechadas... Pessoas mais velhas passaram a comprar itens online?)\n",
    "* A renda dos clientes aumentou (Negócio próprio? Novo emprego? Inflação?)\n",
    "* A região Sul continua sendo a região com mais vendas\n",
    "* O produto mais vendido deixou de ser o batom para passar a ser o desodorante\n",
    "\n",
    "#### Estatística\n",
    "* A média de idade aumentou, aproximadamente, 18%\n",
    "* A renda média dos clientes cresceu 52%\n",
    "* A região Sul teve um aumento de vendas de 45%"
   ]
  },
  {
   "cell_type": "markdown",
   "metadata": {},
   "source": [
    "### Item 3"
   ]
  },
  {
   "cell_type": "code",
   "execution_count": 278,
   "metadata": {},
   "outputs": [],
   "source": [
    "# Dados fornecidos no problema\n",
    "N = 100000\n",
    "confianca = 0.95\n",
    "erro_percentual = 0.02"
   ]
  },
  {
   "cell_type": "code",
   "execution_count": 279,
   "metadata": {},
   "outputs": [
    {
     "data": {
      "text/plain": [
       "1.959963984540054"
      ]
     },
     "execution_count": 279,
     "metadata": {},
     "output_type": "execute_result"
    }
   ],
   "source": [
    "# Calculando z a partir do valor de confiança fornecido\n",
    "z = norm.ppf(confianca/2 + 0.5)\n",
    "z"
   ]
  },
  {
   "cell_type": "code",
   "execution_count": 280,
   "metadata": {},
   "outputs": [
    {
     "data": {
      "text/plain": [
       "6288.0167075146455"
      ]
     },
     "execution_count": 280,
     "metadata": {},
     "output_type": "execute_result"
    }
   ],
   "source": [
    "s = clientes_df.renda.std()\n",
    "s"
   ]
  },
  {
   "cell_type": "code",
   "execution_count": 281,
   "metadata": {},
   "outputs": [
    {
     "data": {
      "text/plain": [
       "11586.364532019705"
      ]
     },
     "execution_count": 281,
     "metadata": {},
     "output_type": "execute_result"
    }
   ],
   "source": [
    "media_amostral = clientes_df.renda.mean()\n",
    "media_amostral"
   ]
  },
  {
   "cell_type": "code",
   "execution_count": 282,
   "metadata": {},
   "outputs": [
    {
     "data": {
      "text/plain": [
       "231.7272906403941"
      ]
     },
     "execution_count": 282,
     "metadata": {},
     "output_type": "execute_result"
    }
   ],
   "source": [
    "e = media_amostral * erro_percentual\n",
    "e"
   ]
  },
  {
   "cell_type": "markdown",
   "metadata": {},
   "source": [
    "#### Obtendo $n$\n",
    "\n",
    "#### $$n = \\frac{z^2 s^2 N}{z^2 s^2 + e^2(N-1)}$$"
   ]
  },
  {
   "cell_type": "code",
   "execution_count": 283,
   "metadata": {},
   "outputs": [
    {
     "data": {
      "text/plain": [
       "2751"
      ]
     },
     "execution_count": 283,
     "metadata": {},
     "output_type": "execute_result"
    }
   ],
   "source": [
    "n = ((z**2) * (s**2) * N) / (((z**2) * (s**2)) + ((e**2) * (N - 1)))\n",
    "n = int(n.round())\n",
    "n"
   ]
  },
  {
   "cell_type": "code",
   "execution_count": 284,
   "metadata": {},
   "outputs": [
    {
     "name": "stdout",
     "output_type": "stream",
     "text": [
      "A base informada não é suficiente, tamanho da base é de 203\n",
      "e o requerido para 95% confiança com 2% de margem de erro é 2751\n"
     ]
    }
   ],
   "source": [
    "resposta = \"A base informada não é suficiente\" if clientes_df.shape[0] < n else \"A base informada é suficiente\"\n",
    "print(f\"{resposta}, tamanho da base é de {clientes_df.shape[0]}\\ne o requerido para 95% confiança com 2% de margem de erro é {n}\")"
   ]
  },
  {
   "cell_type": "code",
   "execution_count": 285,
   "metadata": {},
   "outputs": [
    {
     "data": {
      "text/plain": [
       "1158.6364532019704"
      ]
     },
     "execution_count": 285,
     "metadata": {},
     "output_type": "execute_result"
    }
   ],
   "source": [
    "erro_percentual = 0.1\n",
    "e = media_amostral * erro_percentual\n",
    "e"
   ]
  },
  {
   "cell_type": "code",
   "execution_count": 286,
   "metadata": {},
   "outputs": [
    {
     "data": {
      "text/plain": [
       "113"
      ]
     },
     "execution_count": 286,
     "metadata": {},
     "output_type": "execute_result"
    }
   ],
   "source": [
    "n = ((z**2) * (s**2) * N) / (((z**2) * (s**2)) + ((e**2) * (N - 1)))\n",
    "n = int(n.round())\n",
    "n"
   ]
  },
  {
   "cell_type": "code",
   "execution_count": 287,
   "metadata": {},
   "outputs": [
    {
     "name": "stdout",
     "output_type": "stream",
     "text": [
      "A base informada é suficiente, tamanho da base é de 203\n",
      "e o requerido para 95% confiança com 10% de margem de erro é 113\n"
     ]
    }
   ],
   "source": [
    "resposta = \"A base informada não é suficiente\" if clientes_df.shape[0] < n else \"A base informada é suficiente\"\n",
    "print(f\"{resposta}, tamanho da base é de {clientes_df.shape[0]}\\ne o requerido para 95% confiança com 10% de margem de erro é {n}\")"
   ]
  },
  {
   "cell_type": "markdown",
   "metadata": {},
   "source": [
    "# Desafio 2"
   ]
  }
 ],
 "metadata": {
  "kernelspec": {
   "display_name": "venv",
   "language": "python",
   "name": "python3"
  },
  "language_info": {
   "codemirror_mode": {
    "name": "ipython",
    "version": 3
   },
   "file_extension": ".py",
   "mimetype": "text/x-python",
   "name": "python",
   "nbconvert_exporter": "python",
   "pygments_lexer": "ipython3",
   "version": "3.10.12"
  },
  "orig_nbformat": 4
 },
 "nbformat": 4,
 "nbformat_minor": 2
}
